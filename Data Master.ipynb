{
 "cells": [
  {
   "cell_type": "markdown",
   "id": "24f80f95-6f76-44f5-8a6e-de14a6d107fa",
   "metadata": {},
   "source": [
    "# Imports para rodar Pyspark"
   ]
  },
  {
   "cell_type": "code",
   "execution_count": 1,
   "id": "6c209f5b-eb6d-4d40-b2f5-29780feabddf",
   "metadata": {},
   "outputs": [
    {
     "name": "stdout",
     "output_type": "stream",
     "text": [
      "Requirement already satisfied: pyspark in c:\\users\\natha\\anaconda3\\lib\\site-packages (3.5.1)\n",
      "Requirement already satisfied: py4j==0.10.9.7 in c:\\users\\natha\\anaconda3\\lib\\site-packages (from pyspark) (0.10.9.7)\n"
     ]
    }
   ],
   "source": [
    "!pip install pyspark"
   ]
  },
  {
   "cell_type": "code",
   "execution_count": 2,
   "id": "3f3cc745-9fd8-4f6c-9164-eb8b531724c1",
   "metadata": {},
   "outputs": [],
   "source": [
    "import pyspark\n",
    "from pyspark.sql import SparkSession\n",
    "from pyspark.sql import functions as F\n",
    "from pyspark.sql.window import Window\n",
    "import matplotlib.pyplot as plt\n",
    "import seaborn as sns\n",
    "import numpy as np\n",
    "import pandas as pd # data processing, CSV file I/O (e.g. pd.read_csv)\n",
    "import os"
   ]
  },
  {
   "cell_type": "code",
   "execution_count": 3,
   "id": "85f79abc-ceec-4596-9f17-d1761cb45716",
   "metadata": {},
   "outputs": [
    {
     "data": {
      "text/html": [
       "\n",
       "            <div>\n",
       "                <p><b>SparkSession - in-memory</b></p>\n",
       "                \n",
       "        <div>\n",
       "            <p><b>SparkContext</b></p>\n",
       "\n",
       "            <p><a href=\"http://DESKTOP-GRR3KS2:4040\">Spark UI</a></p>\n",
       "\n",
       "            <dl>\n",
       "              <dt>Version</dt>\n",
       "                <dd><code>v3.5.1</code></dd>\n",
       "              <dt>Master</dt>\n",
       "                <dd><code>local[*]</code></dd>\n",
       "              <dt>AppName</dt>\n",
       "                <dd><code>nathan_data_master_v0</code></dd>\n",
       "            </dl>\n",
       "        </div>\n",
       "        \n",
       "            </div>\n",
       "        "
      ],
      "text/plain": [
       "<pyspark.sql.session.SparkSession at 0x2df097eec90>"
      ]
     },
     "execution_count": 3,
     "metadata": {},
     "output_type": "execute_result"
    }
   ],
   "source": [
    "# Iniciando sessão spark\n",
    "spark = (\n",
    "    SparkSession.builder\n",
    "        .appName('nathan_data_master_v0')\n",
    "        .config(\"spark.driver.memory\", \"8g\")  # Ajuste para até 6g se precisar, dependendo do seu uso\n",
    "        .config(\"spark.executor.memory\", \"20g\") # Equilibrar a memória do executor\n",
    "        .config(\"spark.executor.cores\", \"4\") # O Kaggle geralmente oferece 2 CPUs\n",
    "        .config(\"spark.sql.shuffle.partitions\", \"400\") # Ajuste para otimizar o shuffle, depende do dataset\n",
    "        .config(\"spark.driver.maxResultSize\", \"2g\")\n",
    "        .getOrCreate()\n",
    ")\n",
    "\n",
    "spark.sparkContext.setLogLevel(\"ERROR\") \n",
    "\n",
    "spark"
   ]
  },
  {
   "cell_type": "markdown",
   "id": "984a04b6-848d-40af-8bdc-fd9b9199ab11",
   "metadata": {
    "jp-MarkdownHeadingCollapsed": true
   },
   "source": [
    "# Members"
   ]
  },
  {
   "cell_type": "markdown",
   "id": "73eb77f5-efc6-4fbf-9645-1637a017ca41",
   "metadata": {},
   "source": [
    "## Visão inic"
   ]
  },
  {
   "cell_type": "code",
   "execution_count": 21,
   "id": "0a714104-4ff6-436f-ae4f-ab97e31c8ece",
   "metadata": {},
   "outputs": [],
   "source": [
    "members = spark.read.parquet('members.parquet')"
   ]
  },
  {
   "cell_type": "markdown",
   "id": "8dc9caae-cc7f-495f-a304-009f8951b8c7",
   "metadata": {},
   "source": [
    "Verificação de Duplicatas por anomes"
   ]
  },
  {
   "cell_type": "code",
   "execution_count": 29,
   "id": "fceb2f43-2793-472e-af57-779ee3418d6c",
   "metadata": {},
   "outputs": [
    {
     "name": "stdout",
     "output_type": "stream",
     "text": [
      "+------+-----------+--------------------+\n",
      "| safra|count(msno)|count(DISTINCT msno)|\n",
      "+------+-----------+--------------------+\n",
      "|201601|    4294184|             4294184|\n",
      "|201602|    4502354|             4502354|\n",
      "|201603|    4697972|             4697972|\n",
      "|201604|    4876301|             4876301|\n",
      "|201605|    5060705|             5060705|\n",
      "|201606|    5250064|             5250064|\n",
      "|201607|    5439337|             5439337|\n",
      "|201608|    5615921|             5615921|\n",
      "|201609|    5778986|             5778986|\n",
      "|201610|    5949288|             5949288|\n",
      "|201611|    6114345|             6114345|\n",
      "|201612|    6287789|             6287789|\n",
      "+------+-----------+--------------------+\n",
      "\n"
     ]
    }
   ],
   "source": [
    "members.groupBy('safra').agg(\n",
    "    (F.count('msno')),\n",
    "    (F.countDistinct('msno'))\n",
    ").orderBy('safra').show()"
   ]
  },
  {
   "cell_type": "markdown",
   "id": "71208459-85bc-4693-83e4-4a93435c3277",
   "metadata": {},
   "source": [
    "Verificação de Nullos por coluna"
   ]
  },
  {
   "cell_type": "code",
   "execution_count": 193,
   "id": "9df51e0a-f6b9-4cab-91c4-eadda9444d84",
   "metadata": {},
   "outputs": [],
   "source": [
    "nulos_por_coluna = members.select([F.sum(F.col(c).isNull().cast(\"int\")).alias(c) for c in members.columns])"
   ]
  },
  {
   "cell_type": "code",
   "execution_count": 195,
   "id": "01fe4535-60be-43eb-aff9-d8dd12e56175",
   "metadata": {},
   "outputs": [
    {
     "name": "stdout",
     "output_type": "stream",
     "text": [
      "+----+-----+----------------------+----+---+--------+--------------+--------+\n",
      "|msno|safra|registration_init_time|city| bd|  gender|registered_via|is_ativo|\n",
      "+----+-----+----------------------+----+---+--------+--------------+--------+\n",
      "|   0|    0|                     0|   0|  0|38210177|             0|       0|\n",
      "+----+-----+----------------------+----+---+--------+--------------+--------+\n",
      "\n"
     ]
    }
   ],
   "source": [
    "nulos_por_coluna.show()"
   ]
  },
  {
   "cell_type": "code",
   "execution_count": 33,
   "id": "a18d2358-7bd6-4177-b73c-5f1d8346cd6c",
   "metadata": {},
   "outputs": [],
   "source": [
    "from pyspark.sql.functions import to_date, date_format"
   ]
  },
  {
   "cell_type": "code",
   "execution_count": 35,
   "id": "32c8c93d-41a9-4aef-94ff-b7890d603d94",
   "metadata": {},
   "outputs": [],
   "source": [
    "members = members.withColumn(\"data_registro\", F.to_date(members[\"registration_init_time\"], \"yyyyMMdd\")).drop('registration_init_time')"
   ]
  },
  {
   "cell_type": "code",
   "execution_count": 39,
   "id": "352ecb26-c78a-42ba-b28e-a9b4d6267588",
   "metadata": {},
   "outputs": [
    {
     "name": "stdout",
     "output_type": "stream",
     "text": [
      "+---------------+-----------------+\n",
      "|ultimo_registro|primeiro_registro|\n",
      "+---------------+-----------------+\n",
      "|     2016-12-31|       2004-03-26|\n",
      "+---------------+-----------------+\n",
      "\n"
     ]
    }
   ],
   "source": [
    "members.select(\n",
    "    (F.max('data_registro')).alias('ultimo_registro'),\n",
    "    (F.min('data_registro')).alias('primeiro_registro')\n",
    ").show()"
   ]
  },
  {
   "cell_type": "markdown",
   "id": "02593485-7cc5-4586-97cf-e9bb4a27aa54",
   "metadata": {},
   "source": [
    "## Tratamento da coluna de idade"
   ]
  },
  {
   "cell_type": "markdown",
   "id": "7e799c50-474d-44a5-b0c2-0dc72832e2b7",
   "metadata": {},
   "source": [
    "Verifica Idades Negativas"
   ]
  },
  {
   "cell_type": "code",
   "execution_count": 197,
   "id": "88aaa4d6-c1be-4863-901c-3cc6885f92b4",
   "metadata": {},
   "outputs": [
    {
     "data": {
      "text/plain": [
       "39512942"
      ]
     },
     "execution_count": 197,
     "metadata": {},
     "output_type": "execute_result"
    }
   ],
   "source": [
    "(members\n",
    " .select(F.col('bd').cast('int').alias('idade'))\n",
    "    .filter(F.col('idade') <= 0)\n",
    ").count()"
   ]
  },
  {
   "cell_type": "code",
   "execution_count": 25,
   "id": "c4ab9723-5b53-4c25-974d-36a00587001d",
   "metadata": {
    "scrolled": true
   },
   "outputs": [],
   "source": [
    "membros = (members\n",
    " .select(F.col('bd').cast('int').alias('idade'))\n",
    "    .filter(\n",
    "        (F.col('idade') > 18) & (F.col('idade') <= 80)\n",
    "    )\n",
    ")"
   ]
  },
  {
   "cell_type": "code",
   "execution_count": 27,
   "id": "0533a568-ae6c-45be-ba30-e679bfb6ca77",
   "metadata": {},
   "outputs": [
    {
     "data": {
      "text/plain": [
       "21871833"
      ]
     },
     "execution_count": 27,
     "metadata": {},
     "output_type": "execute_result"
    }
   ],
   "source": [
    "membros.count()"
   ]
  },
  {
   "cell_type": "markdown",
   "id": "88e25e44-bad7-4dba-83c2-0974c9fcc63d",
   "metadata": {},
   "source": [
    "22MM com idades válidas"
   ]
  },
  {
   "cell_type": "markdown",
   "id": "77007fd7-996e-4530-a7b4-02611eb80db5",
   "metadata": {},
   "source": [
    "Deixando apenas idades Válidas"
   ]
  },
  {
   "cell_type": "code",
   "execution_count": 70,
   "id": "3b49c0df-c343-4bc4-b4c1-6ba8c3a0ec4a",
   "metadata": {},
   "outputs": [],
   "source": [
    "id_valid = membros.filter( (F.col('idade')>=18) & (F.col('idade') <=80) ) "
   ]
  },
  {
   "cell_type": "code",
   "execution_count": 72,
   "id": "853a3025-2f73-40fa-aeb5-05e634aba994",
   "metadata": {},
   "outputs": [],
   "source": [
    "mediana = id_valid.approxQuantile(\"idade\", [0.5], 0.01)[0]"
   ]
  },
  {
   "cell_type": "code",
   "execution_count": 73,
   "id": "db589a4a-693f-42ad-bd54-8a613ad69ba0",
   "metadata": {},
   "outputs": [
    {
     "data": {
      "text/plain": [
       "28.0"
      ]
     },
     "execution_count": 73,
     "metadata": {},
     "output_type": "execute_result"
    }
   ],
   "source": [
    "mediana"
   ]
  },
  {
   "cell_type": "markdown",
   "id": "dffa7492-8ca9-4c88-9be3-525cc7716107",
   "metadata": {},
   "source": [
    "Colocando a mediana para os outliers de idade"
   ]
  },
  {
   "cell_type": "code",
   "execution_count": 79,
   "id": "f6e07725-bb22-4759-8d9c-d6715d4e652a",
   "metadata": {},
   "outputs": [],
   "source": [
    "membros = (members\n",
    "           .withColumn('idade', F.col('bd').cast('int').alias('idade'))\n",
    "           .withColumn('idade_corrigida', \n",
    "                       F.when( (F.col(\"idade\")<18) | (F.col('idade')>80), mediana ).otherwise(F.col('idade'))\n",
    "                      )\n",
    ")"
   ]
  },
  {
   "cell_type": "markdown",
   "id": "93bdf003-7e75-4517-b913-0f1dcb6c9106",
   "metadata": {},
   "source": [
    "Verificando Distribuição da Idade tratada"
   ]
  },
  {
   "cell_type": "code",
   "execution_count": 81,
   "id": "863b4397-6595-4f79-8f1f-15f6b37544f5",
   "metadata": {},
   "outputs": [
    {
     "name": "stdout",
     "output_type": "stream",
     "text": [
      "+-------+-----------------+\n",
      "|summary|  idade_corrigida|\n",
      "+-------+-----------------+\n",
      "|  count|         63867246|\n",
      "|   mean|28.87327061198161|\n",
      "| stddev| 6.04387340872599|\n",
      "|    min|             18.0|\n",
      "|    25%|             28.0|\n",
      "|    50%|             28.0|\n",
      "|    75%|             28.0|\n",
      "|    max|             80.0|\n",
      "+-------+-----------------+\n",
      "\n"
     ]
    }
   ],
   "source": [
    "membros.select('idade_corrigida').summary().show()"
   ]
  },
  {
   "cell_type": "markdown",
   "id": "d78496c1-d060-42ef-b293-4e69a8c121f4",
   "metadata": {
    "jp-MarkdownHeadingCollapsed": true
   },
   "source": [
    "# user_logs"
   ]
  },
  {
   "cell_type": "markdown",
   "id": "9a17ac51-0041-4307-9f0c-999623ba1087",
   "metadata": {},
   "source": [
    "## Total Secs"
   ]
  },
  {
   "cell_type": "markdown",
   "id": "39f277b0-06f4-41b9-8c86-55bdbbb6ad30",
   "metadata": {},
   "source": [
    "* Tratando outliers de tempo total escutado\n",
    "* Tempo negativo\n",
    "* Tempo total acima da quantidade de segundos em um mês"
   ]
  },
  {
   "cell_type": "code",
   "execution_count": 13,
   "id": "ccac1217-09f6-4c28-8b5c-b35bab921db1",
   "metadata": {},
   "outputs": [
    {
     "data": {
      "text/plain": [
       "42346"
      ]
     },
     "execution_count": 13,
     "metadata": {},
     "output_type": "execute_result"
    }
   ],
   "source": [
    "user_logs.filter(F.col('total_secs') < 0).count()"
   ]
  },
  {
   "cell_type": "code",
   "execution_count": 66,
   "id": "84dab619-5b94-421d-93f3-2306642687dd",
   "metadata": {},
   "outputs": [
    {
     "data": {
      "text/plain": [
       "1650"
      ]
     },
     "execution_count": 66,
     "metadata": {},
     "output_type": "execute_result"
    }
   ],
   "source": [
    "user_logs.filter(F.col('total_secs') > 2678.400).count()"
   ]
  },
  {
   "cell_type": "markdown",
   "id": "624df7ab-ceba-4b9a-aeba-c3e0d44cf2da",
   "metadata": {},
   "source": [
    "Tratando outliers por distancia interquartil"
   ]
  },
  {
   "cell_type": "code",
   "execution_count": 97,
   "id": "0d8b1573-89ac-4d1d-927c-1c4ba9135b0c",
   "metadata": {},
   "outputs": [],
   "source": [
    "log = user_logs.filter(F.col('total_secs').between(0, 2678400))"
   ]
  },
  {
   "cell_type": "code",
   "execution_count": 99,
   "id": "c6b59529-2a59-410b-bd79-79bf089517dc",
   "metadata": {},
   "outputs": [],
   "source": [
    "q1 = log.select('total_secs').approxQuantile(\"total_secs\", [0.25], 0.01)[0]"
   ]
  },
  {
   "cell_type": "code",
   "execution_count": 100,
   "id": "c129280d-45e3-41fe-ab3a-57c220e735f2",
   "metadata": {},
   "outputs": [],
   "source": [
    "q3 = log.select('total_secs').approxQuantile(\"total_secs\", [0.75], 0.01)[0]"
   ]
  },
  {
   "cell_type": "code",
   "execution_count": 101,
   "id": "ebf2dbf1-3ce0-4c19-8079-0e05ff975cb7",
   "metadata": {},
   "outputs": [],
   "source": [
    "IQR = q3 - q1"
   ]
  },
  {
   "cell_type": "markdown",
   "id": "5eff0206-c126-44e9-87f6-cb6344d0214a",
   "metadata": {},
   "source": [
    "Setando o limite inferior como zero pois não tem tempo negativo"
   ]
  },
  {
   "cell_type": "code",
   "execution_count": 111,
   "id": "69df9a3b-27cb-49ed-bdd8-2dd2c737c34e",
   "metadata": {},
   "outputs": [],
   "source": [
    "limite_inferior = 0"
   ]
  },
  {
   "cell_type": "code",
   "execution_count": 113,
   "id": "607fde6e-8b27-4a09-9c3c-512adbe92259",
   "metadata": {},
   "outputs": [],
   "source": [
    "limite_superior = q3 + 1.5 * IQR"
   ]
  },
  {
   "cell_type": "code",
   "execution_count": 115,
   "id": "e48e669f-34db-4fd3-a49f-a818cc17f634",
   "metadata": {},
   "outputs": [
    {
     "data": {
      "text/plain": [
       "57457.439"
      ]
     },
     "execution_count": 115,
     "metadata": {},
     "output_type": "execute_result"
    }
   ],
   "source": [
    "mediana = user_logs.approxQuantile(\"total_secs\", [0.5], 0.01)[0]\n",
    "mediana"
   ]
  },
  {
   "cell_type": "code",
   "execution_count": 69,
   "id": "2467c1bd-5c6b-4f5a-90e1-346c17a94181",
   "metadata": {},
   "outputs": [],
   "source": [
    "log_ajustado = (user_logs\n",
    "            .withColumn('tempo_total', \n",
    "                       F.when( (F.col(\"total_secs\")< 0), 0)\n",
    "                        .when( (F.col(\"total_secs\")> limite_superior), mediana)\n",
    "                        .otherwise(F.col('total_secs'))\n",
    "                      )\n",
    ")"
   ]
  },
  {
   "cell_type": "markdown",
   "id": "014151a6-47af-4550-8782-bf2d186e8922",
   "metadata": {},
   "source": [
    "Verificando a distribuição "
   ]
  },
  {
   "cell_type": "code",
   "execution_count": 75,
   "id": "0ba1dc26-352f-4409-bb9e-445c43bd76c1",
   "metadata": {},
   "outputs": [
    {
     "name": "stdout",
     "output_type": "stream",
     "text": [
      "+-------+------------------+\n",
      "|summary|       tempo_total|\n",
      "+-------+------------------+\n",
      "|  count|          26758971|\n",
      "|   mean| 78328.06169187275|\n",
      "| stddev| 83260.74411060495|\n",
      "|    min|               0.0|\n",
      "|    25%|         11021.553|\n",
      "|    50%|         57457.439|\n",
      "|    75%|116691.65599999999|\n",
      "|    max|        360256.619|\n",
      "+-------+------------------+\n",
      "\n"
     ]
    }
   ],
   "source": [
    "log_ajustado.select('tempo_total').summary().show()"
   ]
  },
  {
   "cell_type": "code",
   "execution_count": 55,
   "id": "da9c462b-9c4d-4241-abb5-52579eb2465d",
   "metadata": {},
   "outputs": [],
   "source": [
    "user_logs = spark.read.parquet('user_logs.parquet')"
   ]
  },
  {
   "cell_type": "code",
   "execution_count": 59,
   "id": "56c1b767-f6f1-4c60-b914-32beed95387d",
   "metadata": {},
   "outputs": [],
   "source": [
    "limite_superior = 360256.627"
   ]
  },
  {
   "cell_type": "code",
   "execution_count": 61,
   "id": "81901128-1629-42b4-9061-3a56272ff2ed",
   "metadata": {},
   "outputs": [],
   "source": [
    "mediana = 57457.439"
   ]
  },
  {
   "cell_type": "code",
   "execution_count": 65,
   "id": "cabab98b-0093-4023-ae09-da3394319c29",
   "metadata": {},
   "outputs": [],
   "source": [
    "user_logs_t = (user_logs\n",
    "    .withColumn('tempo_total', \n",
    "                       F.when( (F.col(\"total_secs\")< 0), 0)\n",
    "                        .when( (F.col(\"total_secs\")> limite_superior), mediana)\n",
    "                        .otherwise(F.col('total_secs'))\n",
    "                      )\n",
    "    .drop('total_secs')\n",
    ")"
   ]
  },
  {
   "cell_type": "markdown",
   "id": "21c7ca1a-7f45-4f00-a1c5-e1192474079d",
   "metadata": {
    "jp-MarkdownHeadingCollapsed": true
   },
   "source": [
    "# Trata e Junta Bases"
   ]
  },
  {
   "cell_type": "code",
   "execution_count": 423,
   "id": "e2695fd9-dbd9-4d55-a4a7-a68c23a283ca",
   "metadata": {},
   "outputs": [],
   "source": [
    "members = spark.read.parquet('members.parquet')\n",
    "user_logs = spark.read.parquet('user_logs.parquet')\n",
    "transactions = spark.read.parquet('transactions.parquet')"
   ]
  },
  {
   "cell_type": "markdown",
   "id": "d79ebc97-3ea1-40e4-9959-56dd4d4188d4",
   "metadata": {},
   "source": [
    "* Tratamento de datas\n",
    "* Tratamento de outliers para idade\n",
    "* Criação da target"
   ]
  },
  {
   "cell_type": "code",
   "execution_count": 425,
   "id": "c6a54477-bf92-4190-9ef4-517025ec2976",
   "metadata": {},
   "outputs": [],
   "source": [
    "# média de idade para tratar outliers\n",
    "mediana = 28\n",
    "\n",
    "# particiona a base por id e safra\n",
    "part_clie = Window.partitionBy(\"msno\").orderBy(\"safra\")\n",
    "\n",
    "members_t = (members\n",
    "\n",
    "    # trata as datas\n",
    "    .withColumn(\"data_registro\", F.to_date(members[\"registration_init_time\"], \"yyyyMMdd\"))\n",
    "    .withColumn(\"safra_date\", F.to_date(F.concat(F.col(\"safra\").substr(1, 4), F.lit(\"-\"), F.col(\"safra\").substr(5, 2), F.lit(\"-01\")), \"yyyy-MM-dd\"))\n",
    "\n",
    "    #criação de feature diferença de dias entre o registro e a data atual\n",
    "    .withColumn(\"delta_registro\", F.datediff(F.col(\"safra_date\"), F.col(\"data_registro\")))\n",
    "\n",
    "    #trata outliers de idade\n",
    "    .withColumn('idade', \n",
    "                       F.when( (F.col(\"bd\").cast('int')<18) | (F.col('bd').cast('int')>80), mediana ).otherwise(F.col('bd'))\n",
    "                      )\n",
    "\n",
    "     # Tratamento da safra m3 para criação da target        \n",
    "    .withColumn(\"safra_m3_date\", F.add_months(F.col(\"safra_date\"), 3))\n",
    "    .withColumn(\"safra_m3\", F.date_format(F.col(\"safra_m3_date\"), \"yyyyMM\")) \n",
    "    .withColumn(\"is_ativo_safra_m3\", \n",
    "                  F.when(F.col(\"safra_m3\") == F.lead(\"safra\", 3).over(part_clie), F.lead(\"is_ativo\", 3).over(part_clie))\n",
    "                   .otherwise(F.lit(0)))\n",
    "           \n",
    "    # Criação da target\n",
    "    .withColumn('target', F.when(\n",
    "          (F.col('is_ativo') == 1) &\n",
    "          (F.col('is_ativo_safra_m3') == 0), 1\n",
    "          ).otherwise(0)\n",
    "                 )\n",
    "     # Filtra só o periodo com target   \n",
    "    .filter(F.col('safra')<=201609)\n",
    "\n",
    "    # Retira colunas dispensáveis para o uso\n",
    "    .drop('registration_init_time', 'bd', 'gender')\n",
    "    .withColumnRenamed('safra_date','safra_dia')\n",
    "          )"
   ]
  },
  {
   "cell_type": "code",
   "execution_count": 427,
   "id": "883a6b82-73fa-439f-a88c-2fb1814abadc",
   "metadata": {},
   "outputs": [],
   "source": [
    "transactions_t = (transactions\n",
    "\n",
    "    # Tratamento de datas\n",
    "    .withColumn(\"data_expira_cadastro\", F.to_date(transactions[\"membership_expire_date\"], \"yyyyMMdd\"))\n",
    "    .withColumn(\"data_trasaction\", F.to_date(transactions[\"transaction_date\"], \"yyyyMMdd\"))\n",
    "    .withColumn(\"safra_dia\", F.to_date(F.concat(F.col(\"safra\").substr(1, 4), F.lit(\"-\"), F.col(\"safra\").substr(5, 2), F.lit(\"-01\")), \"yyyy-MM-dd\"))\n",
    "    \n",
    "    # Criação de Features\n",
    "    .withColumn(\"delta_exp_cad\", F.datediff(F.col(\"data_expira_cadastro\"), F.col(\"safra_dia\")))\n",
    "    .withColumn(\"delta_trasac\", F.datediff(F.col(\"data_trasaction\"), F.col(\"safra_dia\")))\n",
    "    .withColumn(\"prob_renov_auto\", F.avg(\"is_auto_renew\").over(window_3m))\n",
    "    .withColumn(\"atraso_pagamento\",F.when(F.col(\"transaction_date\") > F.col(\"membership_expire_date\"), 1).otherwise(0))\n",
    "\n",
    "    # Filtrando apenas o periodo com target\n",
    "    .filter(\n",
    "        (F.col('safra')>='201601') &\n",
    "        (F.col('safra')<='201609')\n",
    "    )\n",
    "\n",
    "                 )"
   ]
  },
  {
   "cell_type": "code",
   "execution_count": 353,
   "id": "02482438-c368-4920-9021-7b6ce8e11aa0",
   "metadata": {},
   "outputs": [],
   "source": [
    "rolling_window = Window.partitionBy(\"msno\").orderBy(\"safra\").rowsBetween(-2, 0)\n",
    "part_clie = Window.partitionBy(\"msno\").orderBy('safra')"
   ]
  },
  {
   "cell_type": "code",
   "execution_count": 429,
   "id": "c0db29a7-18a9-43c6-8d7c-b0a3297d6ea8",
   "metadata": {},
   "outputs": [],
   "source": [
    "limite_superior = 360256.627\n",
    "mediana = 57457.439\n",
    "user_logs_t = (user_logs\n",
    "\n",
    "    #filtrando apenas data que tenho target\n",
    "    .filter(\n",
    "        (F.col('safra')>='201601') &\n",
    "        (F.col('safra')<='201609')\n",
    "    )\n",
    "\n",
    "    #tratamento de outliers \n",
    "    .withColumn('tempo_total', \n",
    "                       F.when( (F.col(\"total_secs\")< 0), 0)\n",
    "                        .when( (F.col(\"total_secs\")> limite_superior), mediana)\n",
    "                        .otherwise(F.col('total_secs'))\n",
    "                      )\n",
    "\n",
    "    # tratamento de data\n",
    "    .withColumn(\"safra_dia\", F.to_date(F.concat(F.col(\"safra\").substr(1, 4), F.lit(\"-\"), F.col(\"safra\").substr(5, 2), F.lit(\"-01\")), \"yyyy-MM-dd\"))\n",
    "\n",
    "\n",
    "\n",
    "    # Criação de Features\n",
    "               \n",
    "    # Adicionar colunas com a média móvel para cada métrica\n",
    "    .withColumn(\"media_3m_25\", F.avg(\"num_25\").over(rolling_window))\n",
    "    .withColumn(\"media_3m_50\", F.avg(\"num_50\").over(rolling_window))\n",
    "    .withColumn(\"media_3m_75\", F.avg(\"num_75\").over(rolling_window))\n",
    "    .withColumn(\"media_3m_985\", F.avg(\"num_985\").over(rolling_window))\n",
    "    .withColumn(\"media_3m_100\", F.avg(\"num_100\").over(rolling_window))\n",
    "    .withColumn(\"media_3m_unq\", F.avg(\"num_unq\").over(rolling_window))\n",
    "\n",
    "    # divisao entre primeiro mes e atual para captura de tendência\n",
    "    .withColumn(\"p_25\", F.first(\"num_25\").over(part_clie))\n",
    "    .withColumn(\"u_25\", F.last(\"num_25\").over(part_clie))\n",
    "    .withColumn(\"dif_25\", F.col(\"u_25\") / F.col(\"p_25\"))\n",
    "               \n",
    "    .withColumn(\"p_50\", F.first(\"num_50\").over(part_clie))\n",
    "    .withColumn(\"u_50\", F.last(\"num_50\").over(part_clie))\n",
    "    .withColumn(\"dif_50\", F.col(\"u_50\") / F.col(\"p_50\"))\n",
    "               \n",
    "    .withColumn(\"p_75\", F.first(\"num_75\").over(part_clie))\n",
    "    .withColumn(\"u_75\", F.last(\"num_75\").over(part_clie))\n",
    "    .withColumn(\"dif_75\", F.col(\"u_75\") / F.col(\"p_75\"))\n",
    "               \n",
    "    .withColumn(\"p_985\", F.first(\"num_985\").over(part_clie))\n",
    "    .withColumn(\"u_985\", F.last(\"num_985\").over(part_clie))\n",
    "    .withColumn(\"dif_985\", F.col(\"u_985\") / F.col(\"p_985\"))\n",
    "               \n",
    "    .withColumn(\"p_100\", F.first(\"num_100\").over(part_clie))\n",
    "    .withColumn(\"u_100\", F.last(\"num_100\").over(part_clie))\n",
    "    .withColumn(\"dif_100\", F.col(\"u_100\") / F.col(\"p_100\"))\n",
    "               \n",
    "    .withColumn(\"p_unq\", F.first(\"num_unq\").over(part_clie))\n",
    "    .withColumn(\"u_unq\", F.last(\"num_unq\").over(part_clie))\n",
    "    .withColumn(\"dif_unq\", F.col(\"u_unq\") / F.col(\"p_unq\"))           \n",
    ").drop(\"p_25\",\"u_25\",\"p_50\",\"u_50\",\"p_75\",\"u_75\",\"p_985\",\"u_985\",\"p_100\",\"u_100\",\"p_unq\",\"u_unq\",'total_secs')"
   ]
  },
  {
   "cell_type": "markdown",
   "id": "a12072bc-511d-48ac-97f7-54d26172705a",
   "metadata": {},
   "source": [
    "Junta tudo em uma base final"
   ]
  },
  {
   "cell_type": "code",
   "execution_count": 431,
   "id": "cb0bacc9-3aac-44d8-98e1-81058f1bb1ed",
   "metadata": {},
   "outputs": [],
   "source": [
    "master = (members_t\n",
    ".join(transactions_t, ['msno', 'safra', 'safra_dia'], 'left')\n",
    ".join(user_logs_t, ['msno', 'safra', 'safra_dia'], 'left')\n",
    ")"
   ]
  },
  {
   "cell_type": "markdown",
   "id": "71c227e0-1b30-4f2b-b07c-af0b5a80411b",
   "metadata": {},
   "source": [
    "Retira quem tem todas as colunas nulas"
   ]
  },
  {
   "cell_type": "code",
   "execution_count": 437,
   "id": "fce71995-e5e9-4871-801f-21a92dd34a4b",
   "metadata": {},
   "outputs": [],
   "source": [
    "lista_colunas = [\n",
    "'payment_method_id',\n",
    " 'payment_plan_days',\n",
    " 'plan_list_price',\n",
    " 'actual_amount_paid',\n",
    " 'is_auto_renew',\n",
    " 'transaction_date',\n",
    " 'membership_expire_date',\n",
    " 'is_cancel',\n",
    " 'data_expira_cadastro',\n",
    " 'data_trasaction',\n",
    " 'delta_exp_cad',\n",
    " 'delta_trasac',\n",
    " 'prob_renov_auto',\n",
    " 'atraso_pagamento',\n",
    " 'num_25',\n",
    " 'num_50',\n",
    " 'num_75',\n",
    " 'num_985',\n",
    " 'num_100',\n",
    " 'num_unq',\n",
    " 'tempo_total',\n",
    " 'media_3m_25',\n",
    " 'media_3m_50',\n",
    " 'media_3m_75',\n",
    " 'media_3m_985',\n",
    " 'media_3m_100',\n",
    " 'media_3m_unq',\n",
    " 'dif_25',\n",
    " 'dif_50',\n",
    " 'dif_75',\n",
    " 'dif_985',\n",
    " 'dif_100',\n",
    " 'dif_unq']"
   ]
  },
  {
   "cell_type": "code",
   "execution_count": 439,
   "id": "8c5122da-b334-4e60-9514-96e7351097c6",
   "metadata": {},
   "outputs": [],
   "source": [
    "condicao = \" OR \".join([f\"{coluna} IS NOT NULL\" for coluna in lista_colunas])"
   ]
  },
  {
   "cell_type": "code",
   "execution_count": 441,
   "id": "019f7eeb-6a9c-41fa-83f3-667dd2cfcd7a",
   "metadata": {},
   "outputs": [],
   "source": [
    "master_t = master.filter(condicao)"
   ]
  },
  {
   "cell_type": "markdown",
   "id": "d360fe67-fe11-40e8-bf59-d98bfb4a0431",
   "metadata": {},
   "source": [
    "Métricas da base final"
   ]
  },
  {
   "cell_type": "code",
   "execution_count": 443,
   "id": "22b6cb6c-bdd0-4326-9aa7-b60d61cb0d63",
   "metadata": {},
   "outputs": [
    {
     "data": {
      "text/plain": [
       "10413790"
      ]
     },
     "execution_count": 443,
     "metadata": {},
     "output_type": "execute_result"
    }
   ],
   "source": [
    "master_t.count()\n",
    "# 10.413.790"
   ]
  },
  {
   "cell_type": "code",
   "execution_count": 188,
   "id": "05cb1c7d-f7a3-4fed-80bb-d2e477e2b1e0",
   "metadata": {},
   "outputs": [
    {
     "name": "stdout",
     "output_type": "stream",
     "text": [
      "+------+-------+\n",
      "|target|  count|\n",
      "+------+-------+\n",
      "|     0|9316362|\n",
      "|     1|1097428|\n",
      "+------+-------+\n",
      "\n"
     ]
    }
   ],
   "source": [
    "master_t.groupBy('target').count().show()"
   ]
  },
  {
   "cell_type": "code",
   "execution_count": 147,
   "id": "bdc7af35-69fa-493c-8e83-66a35f1ae443",
   "metadata": {},
   "outputs": [
    {
     "name": "stdout",
     "output_type": "stream",
     "text": [
      "Porcentagem de target na base: 10.54 %\n"
     ]
    }
   ],
   "source": [
    "print('Porcentagem de target na base:',round((1097428/(9316362+1097428))*100, 2),'%')"
   ]
  },
  {
   "cell_type": "markdown",
   "id": "afb8cd82-150f-4252-8b82-9dcfe8214385",
   "metadata": {},
   "source": [
    "amostragem da base"
   ]
  },
  {
   "cell_type": "code",
   "execution_count": 445,
   "id": "1ddda039-4b2a-4795-812f-0a49a6f779aa",
   "metadata": {},
   "outputs": [],
   "source": [
    "tamanho_necessario = 300000\n",
    "total_linhas = master_t.count()\n",
    "fração = tamanho_necessario / total_linhas\n",
    "\n",
    "# Selecionando a amostra aleatória com o seed para garantir que seja sempre a mesma\n",
    "amostra = master_t.sample(fraction=fração, seed=42)"
   ]
  },
  {
   "cell_type": "code",
   "execution_count": 446,
   "id": "107c7e94-9c18-47a9-bf8f-12b5d5513491",
   "metadata": {},
   "outputs": [
    {
     "name": "stdout",
     "output_type": "stream",
     "text": [
      "parte master salva\n"
     ]
    }
   ],
   "source": [
    "amostra.toPandas().to_csv(f\"C:/Users/natha/master_amostra_tratada2.csv\", index=False)\n",
    "print(f'parte master salva')"
   ]
  },
  {
   "cell_type": "markdown",
   "id": "2798cf65-d1ad-4304-b430-7724ef695bbf",
   "metadata": {
    "jp-MarkdownHeadingCollapsed": true
   },
   "source": [
    "# Base Unida"
   ]
  },
  {
   "cell_type": "code",
   "execution_count": 455,
   "id": "65cf7613-42cc-4da5-9db0-742d62ff1326",
   "metadata": {},
   "outputs": [],
   "source": [
    "amostra = spark.read.csv(\"master_amostra_tratada2.csv\", header=True, inferSchema=True)"
   ]
  },
  {
   "cell_type": "raw",
   "id": "e090dcc3-4968-4b22-9c45-a51781ed9dd2",
   "metadata": {},
   "source": [
    "Distribuição da target ao longo do tempo"
   ]
  },
  {
   "cell_type": "code",
   "execution_count": 598,
   "id": "a0db3cb1-ea98-43f1-9e0a-d0bce2a9e196",
   "metadata": {},
   "outputs": [
    {
     "name": "stdout",
     "output_type": "stream",
     "text": [
      "+------+--------------+\n",
      "| safra|% média target|\n",
      "+------+--------------+\n",
      "|201601|         15.36|\n",
      "|201602|         15.95|\n",
      "|201603|         11.29|\n",
      "|201604|          7.41|\n",
      "|201605|          8.41|\n",
      "|201606|          7.95|\n",
      "|201607|          8.33|\n",
      "|201608|          9.95|\n",
      "|201609|         10.22|\n",
      "+------+--------------+\n",
      "\n"
     ]
    }
   ],
   "source": [
    "amostra.groupBy('safra').agg( F.round((F.avg('target'))*100,2).alias('% média target') ).orderBy('safra').show()"
   ]
  },
  {
   "cell_type": "code",
   "execution_count": 463,
   "id": "d9050b1b-1e21-41dc-b2ac-7e6448b35db2",
   "metadata": {},
   "outputs": [],
   "source": [
    "df = amostra.toPandas()"
   ]
  },
  {
   "cell_type": "raw",
   "id": "474bb8a2-c826-4d20-b933-5187eb3cd149",
   "metadata": {},
   "source": [
    "Verifica e trata variaveis nulas"
   ]
  },
  {
   "cell_type": "code",
   "execution_count": 467,
   "id": "a07efaef-d688-46e6-ae71-0ee12b038048",
   "metadata": {
    "scrolled": true
   },
   "outputs": [
    {
     "data": {
      "text/plain": [
       "msno                           0\n",
       "safra                          0\n",
       "safra_dia                      0\n",
       "city                           0\n",
       "registered_via                 0\n",
       "is_ativo                       0\n",
       "data_registro                  0\n",
       "delta_registro                 0\n",
       "idade                          0\n",
       "safra_m3_date                  0\n",
       "safra_m3                       0\n",
       "is_ativo_safra_m3              0\n",
       "target                         0\n",
       "payment_method_id         108070\n",
       "payment_plan_days         108070\n",
       "plan_list_price           108070\n",
       "actual_amount_paid        108070\n",
       "is_auto_renew             108070\n",
       "transaction_date          108070\n",
       "membership_expire_date    108070\n",
       "is_cancel                 108070\n",
       "data_expira_cadastro      108070\n",
       "data_trasaction           108070\n",
       "delta_exp_cad             108070\n",
       "delta_trasac              108070\n",
       "prob_renov_auto           108070\n",
       "atraso_pagamento          108070\n",
       "num_25                     22086\n",
       "num_50                     22086\n",
       "num_75                     22086\n",
       "num_985                    22086\n",
       "num_100                    22086\n",
       "num_unq                    22086\n",
       "tempo_total                22086\n",
       "media_3m_25                22086\n",
       "media_3m_50                22086\n",
       "media_3m_75                22086\n",
       "media_3m_985               22086\n",
       "media_3m_100               22086\n",
       "media_3m_unq               22086\n",
       "dif_25                     32734\n",
       "dif_50                     50540\n",
       "dif_75                     61800\n",
       "dif_985                    64454\n",
       "dif_100                    36403\n",
       "dif_unq                    22086\n",
       "dtype: int64"
      ]
     },
     "execution_count": 467,
     "metadata": {},
     "output_type": "execute_result"
    }
   ],
   "source": [
    "df.isna().sum()"
   ]
  },
  {
   "cell_type": "code",
   "execution_count": 477,
   "id": "326bbad5-2206-4eb2-bda9-a3e95ed8546a",
   "metadata": {},
   "outputs": [],
   "source": [
    "amostra2 = amostra.fillna(-1).fillna('-1').drop('delta_exp_cad')\n",
    "df2 = amostra2.toPandas()"
   ]
  },
  {
   "cell_type": "markdown",
   "id": "af770f06-5abd-4208-b418-0edcf602187c",
   "metadata": {
    "jp-MarkdownHeadingCollapsed": true
   },
   "source": [
    "# Divisao Treino e Teste"
   ]
  },
  {
   "cell_type": "code",
   "execution_count": 9,
   "id": "ef83ca8e-dc60-4874-b8dc-62afa8bb6467",
   "metadata": {},
   "outputs": [],
   "source": [
    "import numpy as np\n",
    "from sklearn.model_selection import train_test_split"
   ]
  },
  {
   "cell_type": "code",
   "execution_count": 519,
   "id": "76bab35b-c443-4fb9-b57c-178a3d330b8d",
   "metadata": {},
   "outputs": [],
   "source": [
    "X = df2.drop(columns=['target'])"
   ]
  },
  {
   "cell_type": "code",
   "execution_count": 521,
   "id": "50ebb91f-636e-4247-aeec-42ea25f8b3f6",
   "metadata": {},
   "outputs": [],
   "source": [
    "y = df2['target']"
   ]
  },
  {
   "cell_type": "code",
   "execution_count": 523,
   "id": "4834051a-829e-4427-8530-e75bcf19d164",
   "metadata": {},
   "outputs": [],
   "source": [
    "X_train, X_test, y_train, y_test = train_test_split(X, y, test_size=0.33, random_state=42)"
   ]
  },
  {
   "cell_type": "code",
   "execution_count": 535,
   "id": "c66f8b68-b526-441a-a3f8-df4acf6220d3",
   "metadata": {},
   "outputs": [],
   "source": [
    "X_train.to_csv(f\"C:/Users/natha/X_train.csv\", index=False)\n",
    "X_test.to_csv(f\"C:/Users/natha/X_test.csv\", index=False)\n",
    "y_train.to_csv(f\"C:/Users/natha/y_train.csv\", index=False)\n",
    "y_test.to_csv(f\"C:/Users/natha/y_test.csv\", index=False)"
   ]
  },
  {
   "cell_type": "code",
   "execution_count": 10,
   "id": "eb469461-9f2f-4437-8e6a-91564a636a64",
   "metadata": {},
   "outputs": [],
   "source": [
    "X_train = pd.read_csv(\"C:/Users/natha/X_train.csv\")  \n",
    "X_test = pd.read_csv(\"C:/Users/natha/X_test.csv\") \n",
    "y_train = pd.read_csv(\"C:/Users/natha/y_train.csv\") \n",
    "y_test = pd.read_csv(\"C:/Users/natha/y_test.csv\") "
   ]
  },
  {
   "cell_type": "markdown",
   "id": "c91ccc8c-7242-4e7f-93c7-bb870e8d43f2",
   "metadata": {},
   "source": [
    "# One Hot Encoder"
   ]
  },
  {
   "cell_type": "raw",
   "id": "b252e381-4045-45ba-8746-da44b254bbe9",
   "metadata": {},
   "source": [
    "Tratamento da variavel categorica registered_via"
   ]
  },
  {
   "cell_type": "code",
   "execution_count": 15,
   "id": "c7de7e7f-34f7-40ee-ab95-8b91d168aac7",
   "metadata": {},
   "outputs": [
    {
     "name": "stdout",
     "output_type": "stream",
     "text": [
      "Requirement already satisfied: category_encoders in c:\\users\\natha\\anaconda3\\lib\\site-packages (2.6.4)\n",
      "Requirement already satisfied: numpy>=1.14.0 in c:\\users\\natha\\anaconda3\\lib\\site-packages (from category_encoders) (1.26.4)\n",
      "Requirement already satisfied: scikit-learn>=0.20.0 in c:\\users\\natha\\anaconda3\\lib\\site-packages (from category_encoders) (1.2.2)\n",
      "Requirement already satisfied: scipy>=1.0.0 in c:\\users\\natha\\anaconda3\\lib\\site-packages (from category_encoders) (1.11.4)\n",
      "Requirement already satisfied: statsmodels>=0.9.0 in c:\\users\\natha\\anaconda3\\lib\\site-packages (from category_encoders) (0.14.0)\n",
      "Requirement already satisfied: pandas>=1.0.5 in c:\\users\\natha\\anaconda3\\lib\\site-packages (from category_encoders) (2.1.4)\n",
      "Requirement already satisfied: patsy>=0.5.1 in c:\\users\\natha\\anaconda3\\lib\\site-packages (from category_encoders) (0.5.3)\n",
      "Requirement already satisfied: python-dateutil>=2.8.2 in c:\\users\\natha\\anaconda3\\lib\\site-packages (from pandas>=1.0.5->category_encoders) (2.8.2)\n",
      "Requirement already satisfied: pytz>=2020.1 in c:\\users\\natha\\anaconda3\\lib\\site-packages (from pandas>=1.0.5->category_encoders) (2023.3.post1)\n",
      "Requirement already satisfied: tzdata>=2022.1 in c:\\users\\natha\\anaconda3\\lib\\site-packages (from pandas>=1.0.5->category_encoders) (2023.3)\n",
      "Requirement already satisfied: six in c:\\users\\natha\\anaconda3\\lib\\site-packages (from patsy>=0.5.1->category_encoders) (1.16.0)\n",
      "Requirement already satisfied: joblib>=1.1.1 in c:\\users\\natha\\anaconda3\\lib\\site-packages (from scikit-learn>=0.20.0->category_encoders) (1.2.0)\n",
      "Requirement already satisfied: threadpoolctl>=2.0.0 in c:\\users\\natha\\anaconda3\\lib\\site-packages (from scikit-learn>=0.20.0->category_encoders) (2.2.0)\n",
      "Requirement already satisfied: packaging>=21.3 in c:\\users\\natha\\anaconda3\\lib\\site-packages (from statsmodels>=0.9.0->category_encoders) (23.1)\n"
     ]
    }
   ],
   "source": [
    "!pip install category_encoders\n",
    "from category_encoders.one_hot import OneHotEncoder"
   ]
  },
  {
   "cell_type": "markdown",
   "id": "03d05a33-2add-443a-bfcf-123b60ab56f3",
   "metadata": {},
   "source": [
    "Verificação da quantidade de valores unicos"
   ]
  },
  {
   "cell_type": "code",
   "execution_count": 155,
   "id": "12906982-0004-4ced-8400-5ac937508b0e",
   "metadata": {
    "scrolled": true
   },
   "outputs": [
    {
     "data": {
      "text/plain": [
       "6"
      ]
     },
     "execution_count": 155,
     "metadata": {},
     "output_type": "execute_result"
    }
   ],
   "source": [
    "X_train['registered_via'].nunique()"
   ]
  },
  {
   "cell_type": "code",
   "execution_count": 15,
   "id": "bb3707aa-ce0a-4112-af66-a7cdb32eca99",
   "metadata": {},
   "outputs": [
    {
     "data": {
      "text/html": [
       "<style>#sk-container-id-1 {color: black;background-color: white;}#sk-container-id-1 pre{padding: 0;}#sk-container-id-1 div.sk-toggleable {background-color: white;}#sk-container-id-1 label.sk-toggleable__label {cursor: pointer;display: block;width: 100%;margin-bottom: 0;padding: 0.3em;box-sizing: border-box;text-align: center;}#sk-container-id-1 label.sk-toggleable__label-arrow:before {content: \"▸\";float: left;margin-right: 0.25em;color: #696969;}#sk-container-id-1 label.sk-toggleable__label-arrow:hover:before {color: black;}#sk-container-id-1 div.sk-estimator:hover label.sk-toggleable__label-arrow:before {color: black;}#sk-container-id-1 div.sk-toggleable__content {max-height: 0;max-width: 0;overflow: hidden;text-align: left;background-color: #f0f8ff;}#sk-container-id-1 div.sk-toggleable__content pre {margin: 0.2em;color: black;border-radius: 0.25em;background-color: #f0f8ff;}#sk-container-id-1 input.sk-toggleable__control:checked~div.sk-toggleable__content {max-height: 200px;max-width: 100%;overflow: auto;}#sk-container-id-1 input.sk-toggleable__control:checked~label.sk-toggleable__label-arrow:before {content: \"▾\";}#sk-container-id-1 div.sk-estimator input.sk-toggleable__control:checked~label.sk-toggleable__label {background-color: #d4ebff;}#sk-container-id-1 div.sk-label input.sk-toggleable__control:checked~label.sk-toggleable__label {background-color: #d4ebff;}#sk-container-id-1 input.sk-hidden--visually {border: 0;clip: rect(1px 1px 1px 1px);clip: rect(1px, 1px, 1px, 1px);height: 1px;margin: -1px;overflow: hidden;padding: 0;position: absolute;width: 1px;}#sk-container-id-1 div.sk-estimator {font-family: monospace;background-color: #f0f8ff;border: 1px dotted black;border-radius: 0.25em;box-sizing: border-box;margin-bottom: 0.5em;}#sk-container-id-1 div.sk-estimator:hover {background-color: #d4ebff;}#sk-container-id-1 div.sk-parallel-item::after {content: \"\";width: 100%;border-bottom: 1px solid gray;flex-grow: 1;}#sk-container-id-1 div.sk-label:hover label.sk-toggleable__label {background-color: #d4ebff;}#sk-container-id-1 div.sk-serial::before {content: \"\";position: absolute;border-left: 1px solid gray;box-sizing: border-box;top: 0;bottom: 0;left: 50%;z-index: 0;}#sk-container-id-1 div.sk-serial {display: flex;flex-direction: column;align-items: center;background-color: white;padding-right: 0.2em;padding-left: 0.2em;position: relative;}#sk-container-id-1 div.sk-item {position: relative;z-index: 1;}#sk-container-id-1 div.sk-parallel {display: flex;align-items: stretch;justify-content: center;background-color: white;position: relative;}#sk-container-id-1 div.sk-item::before, #sk-container-id-1 div.sk-parallel-item::before {content: \"\";position: absolute;border-left: 1px solid gray;box-sizing: border-box;top: 0;bottom: 0;left: 50%;z-index: -1;}#sk-container-id-1 div.sk-parallel-item {display: flex;flex-direction: column;z-index: 1;position: relative;background-color: white;}#sk-container-id-1 div.sk-parallel-item:first-child::after {align-self: flex-end;width: 50%;}#sk-container-id-1 div.sk-parallel-item:last-child::after {align-self: flex-start;width: 50%;}#sk-container-id-1 div.sk-parallel-item:only-child::after {width: 0;}#sk-container-id-1 div.sk-dashed-wrapped {border: 1px dashed gray;margin: 0 0.4em 0.5em 0.4em;box-sizing: border-box;padding-bottom: 0.4em;background-color: white;}#sk-container-id-1 div.sk-label label {font-family: monospace;font-weight: bold;display: inline-block;line-height: 1.2em;}#sk-container-id-1 div.sk-label-container {text-align: center;}#sk-container-id-1 div.sk-container {/* jupyter's `normalize.less` sets `[hidden] { display: none; }` but bootstrap.min.css set `[hidden] { display: none !important; }` so we also need the `!important` here to be able to override the default hidden behavior on the sphinx rendered scikit-learn.org. See: https://github.com/scikit-learn/scikit-learn/issues/21755 */display: inline-block !important;position: relative;}#sk-container-id-1 div.sk-text-repr-fallback {display: none;}</style><div id=\"sk-container-id-1\" class=\"sk-top-container\"><div class=\"sk-text-repr-fallback\"><pre>OneHotEncoder(cols=[&#x27;registered_via&#x27;], use_cat_names=True)</pre><b>In a Jupyter environment, please rerun this cell to show the HTML representation or trust the notebook. <br />On GitHub, the HTML representation is unable to render, please try loading this page with nbviewer.org.</b></div><div class=\"sk-container\" hidden><div class=\"sk-item\"><div class=\"sk-estimator sk-toggleable\"><input class=\"sk-toggleable__control sk-hidden--visually\" id=\"sk-estimator-id-1\" type=\"checkbox\" checked><label for=\"sk-estimator-id-1\" class=\"sk-toggleable__label sk-toggleable__label-arrow\">OneHotEncoder</label><div class=\"sk-toggleable__content\"><pre>OneHotEncoder(cols=[&#x27;registered_via&#x27;], use_cat_names=True)</pre></div></div></div></div></div>"
      ],
      "text/plain": [
       "OneHotEncoder(cols=['registered_via'], use_cat_names=True)"
      ]
     },
     "execution_count": 15,
     "metadata": {},
     "output_type": "execute_result"
    }
   ],
   "source": [
    "enc = OneHotEncoder(cols=['registered_via'], use_cat_names=True)\n",
    "enc.fit(X_train)"
   ]
  },
  {
   "cell_type": "code",
   "execution_count": 17,
   "id": "9b98654a-140e-4a7e-8b0c-889749abf790",
   "metadata": {},
   "outputs": [],
   "source": [
    "X_train_1 = enc.transform(X_train)"
   ]
  },
  {
   "cell_type": "code",
   "execution_count": 19,
   "id": "9f8eb06a-b847-48b5-add1-d98b5eaeef03",
   "metadata": {},
   "outputs": [],
   "source": [
    "X_test_1  = enc.transform(X_test)"
   ]
  },
  {
   "cell_type": "markdown",
   "id": "d85d9948-21dd-491c-b6c3-955e4f26ce47",
   "metadata": {
    "jp-MarkdownHeadingCollapsed": true
   },
   "source": [
    "# Target Encoding"
   ]
  },
  {
   "cell_type": "raw",
   "id": "7bccb663-bd07-4e80-bad2-002369f5abb2",
   "metadata": {},
   "source": [
    "Transformação por meio de Target Encoder nas variavies cidade e método de pagamento"
   ]
  },
  {
   "cell_type": "code",
   "execution_count": 21,
   "id": "b53a72ae-9ae3-4511-90bf-a2a33a3bd340",
   "metadata": {},
   "outputs": [],
   "source": [
    "from category_encoders.target_encoder import TargetEncoder"
   ]
  },
  {
   "cell_type": "code",
   "execution_count": 23,
   "id": "79097ebd-0186-4562-aeec-cde583593327",
   "metadata": {},
   "outputs": [],
   "source": [
    "enc = TargetEncoder(cols=['city', 'payment_method_id'],min_samples_leaf=200)"
   ]
  },
  {
   "cell_type": "code",
   "execution_count": 25,
   "id": "42843f90-bd34-43a4-ba2d-1cb0d0b10db8",
   "metadata": {},
   "outputs": [],
   "source": [
    "enc.fit(X_train_1, y_train)\n",
    "X_train_2 = enc.transform(X_train_1)"
   ]
  },
  {
   "cell_type": "code",
   "execution_count": 27,
   "id": "b15a600d-c184-4ace-96d0-6ab0e9fb6acb",
   "metadata": {},
   "outputs": [],
   "source": [
    "X_test_2 = enc.transform(X_test_1)"
   ]
  },
  {
   "cell_type": "code",
   "execution_count": 29,
   "id": "b4e8e404-f08a-47a3-9b2b-40ee7880107f",
   "metadata": {},
   "outputs": [],
   "source": [
    "X_train_2.to_csv(f\"C:/Users/natha/X_train_t.csv\", index=False)\n",
    "X_test_2.to_csv(f\"C:/Users/natha/X_test_t.csv\", index=False)"
   ]
  },
  {
   "cell_type": "markdown",
   "id": "5e54df80-2311-44af-b6c9-28d78f6d90a7",
   "metadata": {},
   "source": [
    "# Busca dos melhores Parametros por Randomized Search"
   ]
  },
  {
   "cell_type": "code",
   "execution_count": 7,
   "id": "8d9bf3b6-d329-4c94-ba5b-0aea0a8f5405",
   "metadata": {},
   "outputs": [],
   "source": [
    "from sklearn.ensemble import RandomForestClassifier\n",
    "from sklearn.model_selection import RandomizedSearchCV\n",
    "from sklearn.pipeline import Pipeline\n",
    "from sklearn.preprocessing import StandardScaler\n",
    "from sklearn.metrics import roc_auc_score, make_scorer\n",
    "import numpy as np\n",
    "from scipy.stats import randint, uniform\n",
    "from scipy.stats import ks_2samp"
   ]
  },
  {
   "cell_type": "code",
   "execution_count": 9,
   "id": "a52ac4e8-0b09-41ab-9b07-22dd708f08e9",
   "metadata": {},
   "outputs": [],
   "source": [
    "X_train = pd.read_csv(\"C:/Users/natha/X_train_t.csv\")  \n",
    "X_test = pd.read_csv(\"C:/Users/natha/X_test_t.csv\") \n",
    "y_train = pd.read_csv(\"C:/Users/natha/y_train.csv\") \n",
    "y_test = pd.read_csv(\"C:/Users/natha/y_test.csv\") "
   ]
  },
  {
   "cell_type": "code",
   "execution_count": 11,
   "id": "f27e1898-3a50-4c40-ab06-8671e7592e57",
   "metadata": {},
   "outputs": [],
   "source": [
    "features=['city',\n",
    " 'registered_via_3.0',\n",
    " 'registered_via_7.0',\n",
    " 'registered_via_4.0',\n",
    " 'registered_via_9.0',\n",
    " 'registered_via_13.0',\n",
    " 'registered_via_10.0',\n",
    " 'delta_registro',\n",
    " 'idade',\n",
    " 'payment_method_id',\n",
    " 'payment_plan_days',\n",
    " 'plan_list_price',\n",
    " 'actual_amount_paid',\n",
    " 'is_auto_renew',\n",
    " 'delta_trasac',\n",
    " 'prob_renov_auto',\n",
    " 'atraso_pagamento',\n",
    " 'num_25',\n",
    " 'num_50',\n",
    " 'num_75',\n",
    " 'num_985',\n",
    " 'num_100',\n",
    " 'num_unq',\n",
    " 'tempo_total',\n",
    " 'media_3m_25',\n",
    " 'media_3m_50',\n",
    " 'media_3m_75',\n",
    " 'media_3m_985',\n",
    " 'media_3m_100',\n",
    " 'media_3m_unq',\n",
    " 'dif_25',\n",
    " 'dif_50',\n",
    " 'dif_75',\n",
    " 'dif_985',\n",
    " 'dif_100',\n",
    " 'dif_unq']"
   ]
  },
  {
   "cell_type": "code",
   "execution_count": 13,
   "id": "013b25ad-a02f-4385-8408-fdde26f0aaca",
   "metadata": {},
   "outputs": [],
   "source": [
    "import time  # Para medir o tempo\n",
    "from sklearn.model_selection import RandomizedSearchCV\n",
    "from sklearn.ensemble import RandomForestClassifier\n",
    "from sklearn.metrics import roc_auc_score\n",
    "from scipy.stats import randint\n",
    "import numpy as np\n",
    "\n",
    "# Garantindo que y_train seja 1D\n",
    "if isinstance(y_train, np.ndarray):\n",
    "    y_train_fixed = y_train.ravel()  # Para arrays numpy\n",
    "else:\n",
    "    y_train_fixed = np.array(y_train).ravel()  # Para pandas DataFrame ou Series"
   ]
  },
  {
   "cell_type": "code",
   "execution_count": 15,
   "id": "9c84f8f8-db06-4320-affb-b0d92191a950",
   "metadata": {},
   "outputs": [
    {
     "name": "stdout",
     "output_type": "stream",
     "text": [
      "Fitting 5 folds for each of 10 candidates, totalling 50 fits\n",
      "Melhores parâmetros: {'criterion': 'gini', 'max_depth': 7, 'min_samples_leaf': 373, 'min_samples_split': 487, 'n_estimators': 118}\n"
     ]
    }
   ],
   "source": [
    "# Definição dos hiperparâmetros para RandomizedSearchCV\n",
    "param_dists = {\n",
    "    'n_estimators': randint(30, 500),  \n",
    "    'max_depth': randint(1, 10),  \n",
    "    'min_samples_split': randint(100, 500),  \n",
    "    'min_samples_leaf': randint(100, 500),  \n",
    "    'criterion': ['gini', 'entropy', 'log_loss']\n",
    "}\n",
    "\n",
    "# Instancia o RandomizedSearchCV\n",
    "rand = RandomizedSearchCV(\n",
    "    RandomForestClassifier(random_state=42),\n",
    "    param_dists,\n",
    "    n_iter=10, # numero de interações\n",
    "    cv=5, # numero de folds para validação cruzada\n",
    "    scoring='roc_auc', # métrica alvo \n",
    "    random_state=42,  # garantindo reprodutibilidade\n",
    "    verbose=2,\n",
    "    n_jobs=-1,\n",
    "    return_train_score=True  # Inclui os scores do treino nos resultados\n",
    ")\n",
    "\n",
    "rand.fit(X_train[features], y_train_fixed)  \n",
    "# Exibindo os resultados\n",
    "print(f\"Melhores parâmetros: {rand.best_params_}\")"
   ]
  },
  {
   "cell_type": "code",
   "execution_count": 16,
   "id": "4ad80ba1-c882-40e7-b835-22e108d9c02b",
   "metadata": {},
   "outputs": [],
   "source": [
    "# Convertendo os resultados para DataFrame\n",
    "cv_results_df = pd.DataFrame(rand.cv_results_)\n",
    "\n",
    "# Selecionando apenas as colunas de interesse\n",
    "columns_to_display = [\n",
    "    'mean_test_score',  # AUC médio no conjunto de teste\n",
    "    'mean_train_score', # AUC médio no conjunto de treino\n",
    "    'rank_test_score',  # Rank dos parâmetros com melhor desempenho\n",
    "    'params'            # Parâmetros testados\n",
    "]\n",
    "\n",
    "# Exibindo o DataFrame com as colunas selecionadas\n",
    "cv_results_df = cv_results_df[columns_to_display]\n",
    "\n",
    "# Configurando o pandas para exibir as colunas de parâmetros completamente\n",
    "pd.set_option('display.max_colwidth', None)"
   ]
  },
  {
   "cell_type": "code",
   "execution_count": 27,
   "id": "a0e3d799-260c-4bfd-8d3d-8fdc3841acb6",
   "metadata": {
    "scrolled": true
   },
   "outputs": [
    {
     "data": {
      "text/html": [
       "<div>\n",
       "<style scoped>\n",
       "    .dataframe tbody tr th:only-of-type {\n",
       "        vertical-align: middle;\n",
       "    }\n",
       "\n",
       "    .dataframe tbody tr th {\n",
       "        vertical-align: top;\n",
       "    }\n",
       "\n",
       "    .dataframe thead th {\n",
       "        text-align: right;\n",
       "    }\n",
       "</style>\n",
       "<table border=\"1\" class=\"dataframe\">\n",
       "  <thead>\n",
       "    <tr style=\"text-align: right;\">\n",
       "      <th></th>\n",
       "      <th>mean_test_score</th>\n",
       "      <th>mean_train_score</th>\n",
       "      <th>rank_test_score</th>\n",
       "      <th>params</th>\n",
       "    </tr>\n",
       "  </thead>\n",
       "  <tbody>\n",
       "    <tr>\n",
       "      <th>9</th>\n",
       "      <td>0.835407</td>\n",
       "      <td>0.839304</td>\n",
       "      <td>1</td>\n",
       "      <td>{'criterion': 'gini', 'max_depth': 7, 'min_samples_leaf': 373, 'min_samples_split': 487, 'n_estimators': 118}</td>\n",
       "    </tr>\n",
       "    <tr>\n",
       "      <th>2</th>\n",
       "      <td>0.835364</td>\n",
       "      <td>0.840425</td>\n",
       "      <td>2</td>\n",
       "      <td>{'criterion': 'log_loss', 'max_depth': 8, 'min_samples_leaf': 472, 'min_samples_split': 199, 'n_estimators': 389}</td>\n",
       "    </tr>\n",
       "    <tr>\n",
       "      <th>3</th>\n",
       "      <td>0.832255</td>\n",
       "      <td>0.834932</td>\n",
       "      <td>3</td>\n",
       "      <td>{'criterion': 'log_loss', 'max_depth': 6, 'min_samples_leaf': 408, 'min_samples_split': 357, 'n_estimators': 373}</td>\n",
       "    </tr>\n",
       "    <tr>\n",
       "      <th>4</th>\n",
       "      <td>0.829997</td>\n",
       "      <td>0.832826</td>\n",
       "      <td>4</td>\n",
       "      <td>{'criterion': 'entropy', 'max_depth': 6, 'min_samples_leaf': 485, 'min_samples_split': 291, 'n_estimators': 473}</td>\n",
       "    </tr>\n",
       "    <tr>\n",
       "      <th>1</th>\n",
       "      <td>0.828403</td>\n",
       "      <td>0.830235</td>\n",
       "      <td>5</td>\n",
       "      <td>{'criterion': 'gini', 'max_depth': 5, 'min_samples_leaf': 202, 'min_samples_split': 221, 'n_estimators': 496}</td>\n",
       "    </tr>\n",
       "    <tr>\n",
       "      <th>0</th>\n",
       "      <td>0.819566</td>\n",
       "      <td>0.820687</td>\n",
       "      <td>6</td>\n",
       "      <td>{'criterion': 'log_loss', 'max_depth': 4, 'min_samples_leaf': 448, 'min_samples_split': 370, 'n_estimators': 136}</td>\n",
       "    </tr>\n",
       "    <tr>\n",
       "      <th>8</th>\n",
       "      <td>0.810416</td>\n",
       "      <td>0.811506</td>\n",
       "      <td>7</td>\n",
       "      <td>{'criterion': 'gini', 'max_depth': 3, 'min_samples_leaf': 406, 'min_samples_split': 234, 'n_estimators': 50}</td>\n",
       "    </tr>\n",
       "    <tr>\n",
       "      <th>7</th>\n",
       "      <td>0.808824</td>\n",
       "      <td>0.809509</td>\n",
       "      <td>8</td>\n",
       "      <td>{'criterion': 'log_loss', 'max_depth': 3, 'min_samples_leaf': 463, 'min_samples_split': 154, 'n_estimators': 273}</td>\n",
       "    </tr>\n",
       "    <tr>\n",
       "      <th>5</th>\n",
       "      <td>0.741955</td>\n",
       "      <td>0.742211</td>\n",
       "      <td>9</td>\n",
       "      <td>{'criterion': 'gini', 'max_depth': 1, 'min_samples_leaf': 413, 'min_samples_split': 121, 'n_estimators': 282}</td>\n",
       "    </tr>\n",
       "    <tr>\n",
       "      <th>6</th>\n",
       "      <td>0.741181</td>\n",
       "      <td>0.741487</td>\n",
       "      <td>10</td>\n",
       "      <td>{'criterion': 'gini', 'max_depth': 1, 'min_samples_leaf': 158, 'min_samples_split': 269, 'n_estimators': 217}</td>\n",
       "    </tr>\n",
       "  </tbody>\n",
       "</table>\n",
       "</div>"
      ],
      "text/plain": [
       "   mean_test_score  mean_train_score  rank_test_score  \\\n",
       "9         0.835407          0.839304                1   \n",
       "2         0.835364          0.840425                2   \n",
       "3         0.832255          0.834932                3   \n",
       "4         0.829997          0.832826                4   \n",
       "1         0.828403          0.830235                5   \n",
       "0         0.819566          0.820687                6   \n",
       "8         0.810416          0.811506                7   \n",
       "7         0.808824          0.809509                8   \n",
       "5         0.741955          0.742211                9   \n",
       "6         0.741181          0.741487               10   \n",
       "\n",
       "                                                                                                              params  \n",
       "9      {'criterion': 'gini', 'max_depth': 7, 'min_samples_leaf': 373, 'min_samples_split': 487, 'n_estimators': 118}  \n",
       "2  {'criterion': 'log_loss', 'max_depth': 8, 'min_samples_leaf': 472, 'min_samples_split': 199, 'n_estimators': 389}  \n",
       "3  {'criterion': 'log_loss', 'max_depth': 6, 'min_samples_leaf': 408, 'min_samples_split': 357, 'n_estimators': 373}  \n",
       "4   {'criterion': 'entropy', 'max_depth': 6, 'min_samples_leaf': 485, 'min_samples_split': 291, 'n_estimators': 473}  \n",
       "1      {'criterion': 'gini', 'max_depth': 5, 'min_samples_leaf': 202, 'min_samples_split': 221, 'n_estimators': 496}  \n",
       "0  {'criterion': 'log_loss', 'max_depth': 4, 'min_samples_leaf': 448, 'min_samples_split': 370, 'n_estimators': 136}  \n",
       "8       {'criterion': 'gini', 'max_depth': 3, 'min_samples_leaf': 406, 'min_samples_split': 234, 'n_estimators': 50}  \n",
       "7  {'criterion': 'log_loss', 'max_depth': 3, 'min_samples_leaf': 463, 'min_samples_split': 154, 'n_estimators': 273}  \n",
       "5      {'criterion': 'gini', 'max_depth': 1, 'min_samples_leaf': 413, 'min_samples_split': 121, 'n_estimators': 282}  \n",
       "6      {'criterion': 'gini', 'max_depth': 1, 'min_samples_leaf': 158, 'min_samples_split': 269, 'n_estimators': 217}  "
      ]
     },
     "execution_count": 27,
     "metadata": {},
     "output_type": "execute_result"
    }
   ],
   "source": [
    "cv_results_df.sort_values(['rank_test_score'])"
   ]
  },
  {
   "cell_type": "markdown",
   "id": "dc0f609d-5a9f-41f8-9126-6b04be4d8666",
   "metadata": {},
   "source": [
    "# Roda Modelo com os melhores parametros"
   ]
  },
  {
   "cell_type": "code",
   "execution_count": 36,
   "id": "455ca6c9-b8aa-4d40-82aa-33ab2ddfd0aa",
   "metadata": {},
   "outputs": [
    {
     "name": "stderr",
     "output_type": "stream",
     "text": [
      "[Parallel(n_jobs=-1)]: Using backend ThreadingBackend with 12 concurrent workers.\n",
      "[Parallel(n_jobs=-1)]: Done  26 tasks      | elapsed:    1.3s\n",
      "[Parallel(n_jobs=-1)]: Done 118 out of 118 | elapsed:    4.7s finished\n"
     ]
    },
    {
     "data": {
      "text/html": [
       "<style>#sk-container-id-3 {color: black;background-color: white;}#sk-container-id-3 pre{padding: 0;}#sk-container-id-3 div.sk-toggleable {background-color: white;}#sk-container-id-3 label.sk-toggleable__label {cursor: pointer;display: block;width: 100%;margin-bottom: 0;padding: 0.3em;box-sizing: border-box;text-align: center;}#sk-container-id-3 label.sk-toggleable__label-arrow:before {content: \"▸\";float: left;margin-right: 0.25em;color: #696969;}#sk-container-id-3 label.sk-toggleable__label-arrow:hover:before {color: black;}#sk-container-id-3 div.sk-estimator:hover label.sk-toggleable__label-arrow:before {color: black;}#sk-container-id-3 div.sk-toggleable__content {max-height: 0;max-width: 0;overflow: hidden;text-align: left;background-color: #f0f8ff;}#sk-container-id-3 div.sk-toggleable__content pre {margin: 0.2em;color: black;border-radius: 0.25em;background-color: #f0f8ff;}#sk-container-id-3 input.sk-toggleable__control:checked~div.sk-toggleable__content {max-height: 200px;max-width: 100%;overflow: auto;}#sk-container-id-3 input.sk-toggleable__control:checked~label.sk-toggleable__label-arrow:before {content: \"▾\";}#sk-container-id-3 div.sk-estimator input.sk-toggleable__control:checked~label.sk-toggleable__label {background-color: #d4ebff;}#sk-container-id-3 div.sk-label input.sk-toggleable__control:checked~label.sk-toggleable__label {background-color: #d4ebff;}#sk-container-id-3 input.sk-hidden--visually {border: 0;clip: rect(1px 1px 1px 1px);clip: rect(1px, 1px, 1px, 1px);height: 1px;margin: -1px;overflow: hidden;padding: 0;position: absolute;width: 1px;}#sk-container-id-3 div.sk-estimator {font-family: monospace;background-color: #f0f8ff;border: 1px dotted black;border-radius: 0.25em;box-sizing: border-box;margin-bottom: 0.5em;}#sk-container-id-3 div.sk-estimator:hover {background-color: #d4ebff;}#sk-container-id-3 div.sk-parallel-item::after {content: \"\";width: 100%;border-bottom: 1px solid gray;flex-grow: 1;}#sk-container-id-3 div.sk-label:hover label.sk-toggleable__label {background-color: #d4ebff;}#sk-container-id-3 div.sk-serial::before {content: \"\";position: absolute;border-left: 1px solid gray;box-sizing: border-box;top: 0;bottom: 0;left: 50%;z-index: 0;}#sk-container-id-3 div.sk-serial {display: flex;flex-direction: column;align-items: center;background-color: white;padding-right: 0.2em;padding-left: 0.2em;position: relative;}#sk-container-id-3 div.sk-item {position: relative;z-index: 1;}#sk-container-id-3 div.sk-parallel {display: flex;align-items: stretch;justify-content: center;background-color: white;position: relative;}#sk-container-id-3 div.sk-item::before, #sk-container-id-3 div.sk-parallel-item::before {content: \"\";position: absolute;border-left: 1px solid gray;box-sizing: border-box;top: 0;bottom: 0;left: 50%;z-index: -1;}#sk-container-id-3 div.sk-parallel-item {display: flex;flex-direction: column;z-index: 1;position: relative;background-color: white;}#sk-container-id-3 div.sk-parallel-item:first-child::after {align-self: flex-end;width: 50%;}#sk-container-id-3 div.sk-parallel-item:last-child::after {align-self: flex-start;width: 50%;}#sk-container-id-3 div.sk-parallel-item:only-child::after {width: 0;}#sk-container-id-3 div.sk-dashed-wrapped {border: 1px dashed gray;margin: 0 0.4em 0.5em 0.4em;box-sizing: border-box;padding-bottom: 0.4em;background-color: white;}#sk-container-id-3 div.sk-label label {font-family: monospace;font-weight: bold;display: inline-block;line-height: 1.2em;}#sk-container-id-3 div.sk-label-container {text-align: center;}#sk-container-id-3 div.sk-container {/* jupyter's `normalize.less` sets `[hidden] { display: none; }` but bootstrap.min.css set `[hidden] { display: none !important; }` so we also need the `!important` here to be able to override the default hidden behavior on the sphinx rendered scikit-learn.org. See: https://github.com/scikit-learn/scikit-learn/issues/21755 */display: inline-block !important;position: relative;}#sk-container-id-3 div.sk-text-repr-fallback {display: none;}</style><div id=\"sk-container-id-3\" class=\"sk-top-container\"><div class=\"sk-text-repr-fallback\"><pre>RandomForestClassifier(class_weight=&#x27;balanced&#x27;, max_depth=7,\n",
       "                       min_samples_leaf=373, min_samples_split=487,\n",
       "                       n_estimators=118, n_jobs=-1, random_state=42, verbose=1)</pre><b>In a Jupyter environment, please rerun this cell to show the HTML representation or trust the notebook. <br />On GitHub, the HTML representation is unable to render, please try loading this page with nbviewer.org.</b></div><div class=\"sk-container\" hidden><div class=\"sk-item\"><div class=\"sk-estimator sk-toggleable\"><input class=\"sk-toggleable__control sk-hidden--visually\" id=\"sk-estimator-id-3\" type=\"checkbox\" checked><label for=\"sk-estimator-id-3\" class=\"sk-toggleable__label sk-toggleable__label-arrow\">RandomForestClassifier</label><div class=\"sk-toggleable__content\"><pre>RandomForestClassifier(class_weight=&#x27;balanced&#x27;, max_depth=7,\n",
       "                       min_samples_leaf=373, min_samples_split=487,\n",
       "                       n_estimators=118, n_jobs=-1, random_state=42, verbose=1)</pre></div></div></div></div></div>"
      ],
      "text/plain": [
       "RandomForestClassifier(class_weight='balanced', max_depth=7,\n",
       "                       min_samples_leaf=373, min_samples_split=487,\n",
       "                       n_estimators=118, n_jobs=-1, random_state=42, verbose=1)"
      ]
     },
     "execution_count": 36,
     "metadata": {},
     "output_type": "execute_result"
    }
   ],
   "source": [
    "rf = RandomForestClassifier(\n",
    "    class_weight='balanced',\n",
    "    criterion='gini',\n",
    "    max_depth=7,\n",
    "    min_samples_leaf=373,\n",
    "    min_samples_split=487,\n",
    "    n_estimators=118,\n",
    "    random_state=42,\n",
    "    n_jobs=-1,\n",
    "    verbose=1\n",
    ")\n",
    "rf.fit(X_train[features], y_train_fixed)  "
   ]
  },
  {
   "cell_type": "markdown",
   "id": "18141598-9fe2-4f4e-839a-e1e17dbd956c",
   "metadata": {},
   "source": [
    "## Verifica Métricas no Treino e no Teste"
   ]
  },
  {
   "cell_type": "code",
   "execution_count": 61,
   "id": "055992ef-9aa5-4cdb-91e2-a826537f6ab9",
   "metadata": {},
   "outputs": [],
   "source": [
    "import pandas as pd\n",
    "import numpy as np\n",
    "\n",
    "from sklearn.metrics import roc_auc_score\n",
    "from sklearn.ensemble import RandomForestClassifier\n",
    "from sklearn.metrics import accuracy_score, confusion_matrix, precision_score, recall_score\n",
    "\n",
    "from scipy.stats import ks_2samp\n",
    "\n",
    "# Função para calcular o KS\n",
    "def calculate_ks(y_true, y_prob):\n",
    "    # Criando um DataFrame para manipulação\n",
    "    df = pd.DataFrame({'real': y_true, 'probabilidade': y_prob})\n",
    "    # Separando as probabilidades por classe\n",
    "    prob_positivos = df[df['real'] == 1]['probabilidade']\n",
    "    prob_negativos = df[df['real'] == 0]['probabilidade']\n",
    "    # Calculando o KS com ks_2samp\n",
    "    ks_stat, _ = ks_2samp(prob_positivos, prob_negativos)\n",
    "    return ks_stat"
   ]
  },
  {
   "cell_type": "code",
   "execution_count": 67,
   "id": "27e7673f-51f8-4d02-b9a2-114c720c2d25",
   "metadata": {
    "scrolled": true
   },
   "outputs": [
    {
     "name": "stderr",
     "output_type": "stream",
     "text": [
      "[Parallel(n_jobs=12)]: Using backend ThreadingBackend with 12 concurrent workers.\n",
      "[Parallel(n_jobs=12)]: Done  26 tasks      | elapsed:    0.0s\n",
      "[Parallel(n_jobs=12)]: Done 118 out of 118 | elapsed:    0.1s finished\n",
      "[Parallel(n_jobs=12)]: Using backend ThreadingBackend with 12 concurrent workers.\n",
      "[Parallel(n_jobs=12)]: Done  26 tasks      | elapsed:    0.0s\n",
      "[Parallel(n_jobs=12)]: Done 118 out of 118 | elapsed:    0.0s finished\n",
      "[Parallel(n_jobs=12)]: Using backend ThreadingBackend with 12 concurrent workers.\n",
      "[Parallel(n_jobs=12)]: Done  26 tasks      | elapsed:    0.0s\n",
      "[Parallel(n_jobs=12)]: Done 118 out of 118 | elapsed:    0.1s finished\n",
      "[Parallel(n_jobs=12)]: Using backend ThreadingBackend with 12 concurrent workers.\n",
      "[Parallel(n_jobs=12)]: Done  26 tasks      | elapsed:    0.0s\n",
      "[Parallel(n_jobs=12)]: Done 118 out of 118 | elapsed:    0.0s finished\n"
     ]
    }
   ],
   "source": [
    "y_test_values = y_test['target'].values  \n",
    "y_train_values = y_train['target'].values\n",
    "\n",
    "y_train_prob = rf.predict_proba(X_train[features])[:, 1]  # Probabilidade da classe positiva (1) no treino\n",
    "y_test_prob = rf.predict_proba(X_test[features])[:, 1]    # Probabilidade da classe positiva (1) no teste\n",
    "\n",
    "y_pred_train = rf.predict(X_train[features])\n",
    "y_pred_test = rf.predict(X_test[features])"
   ]
  },
  {
   "cell_type": "code",
   "execution_count": 69,
   "id": "6d155950-194b-45d7-8462-0446ba3e7fb2",
   "metadata": {},
   "outputs": [
    {
     "name": "stdout",
     "output_type": "stream",
     "text": [
      "AUC no treino: 0.839\n",
      "AUC no teste: 0.833\n",
      "--------------------\n",
      "KS no treino: 0.522\n",
      "KS no teste: 0.514\n",
      "--------------------\n",
      "accuracy no treino: 0.709\n",
      "accuracy no teste: 0.708\n"
     ]
    }
   ],
   "source": [
    "# Calcular AUC no treino\n",
    "auc_train = roc_auc_score(y_train, y_train_prob)\n",
    "# Calculando o KS no treino\n",
    "ks_treino = calculate_ks(y_train_values, y_train_prob)\n",
    "\n",
    "# Calcular AUC no teste\n",
    "auc_test = roc_auc_score(y_test, y_test_prob)\n",
    "# Calculando o KS no teste\n",
    "ks_teste = calculate_ks(y_test_values, y_test_prob)\n",
    "\n",
    "accuracy_train = accuracy_score(y_train, y_pred_train)\n",
    "accuracy_test = accuracy_score(y_test, y_pred_test)\n",
    "\n",
    "\n",
    "# Exibindo os valores\n",
    "print(f\"AUC no treino: {auc_train:.3f}\")\n",
    "print(f\"AUC no teste: {auc_test:.3f}\")\n",
    "print('-'*20)\n",
    "print(f\"KS no treino: {ks_treino:.3f}\")\n",
    "print(f\"KS no teste: {ks_teste:.3f}\")\n",
    "print('-'*20)\n",
    "print(f\"accuracy no treino: {accuracy_train:.3f}\")\n",
    "print(f\"accuracy no teste: {accuracy_test:.3f}\")"
   ]
  },
  {
   "cell_type": "code",
   "execution_count": 31,
   "id": "ea70c00a-f723-41a3-9dfc-ecc4cf8600b1",
   "metadata": {},
   "outputs": [],
   "source": [
    "X_train = pd.read_csv(\"C:/Users/natha/X_train_t.csv\")  \n",
    "X_test = pd.read_csv(\"C:/Users/natha/X_test_t.csv\") \n",
    "y_train = pd.read_csv(\"C:/Users/natha/y_train.csv\") \n",
    "y_test = pd.read_csv(\"C:/Users/natha/y_test.csv\") "
   ]
  },
  {
   "cell_type": "code",
   "execution_count": 71,
   "id": "45952b58-a36f-4db3-b4c0-6a7a9859d4f5",
   "metadata": {},
   "outputs": [],
   "source": [
    "importances = rf.feature_importances_"
   ]
  },
  {
   "cell_type": "code",
   "execution_count": 78,
   "id": "a56ed31f-714d-4f4b-b73d-2f199597876c",
   "metadata": {
    "scrolled": true
   },
   "outputs": [],
   "source": [
    "# Criar um DataFrame para visualizar melhor\n",
    "feature_importance_df = pd.DataFrame({\n",
    "    'Feature': features,\n",
    "    'Importance': importances\n",
    "}).sort_values(by='Importance', ascending=False)"
   ]
  },
  {
   "cell_type": "code",
   "execution_count": 75,
   "id": "21fb9f06-4f99-475b-9046-7cf5f7fe57f2",
   "metadata": {
    "scrolled": true
   },
   "outputs": [
    {
     "data": {
      "image/png": "[encoded data removed]",
      "text/plain": [
       "<Figure size 1200x800 with 1 Axes>"
      ]
     },
     "metadata": {},
     "output_type": "display_data"
    }
   ],
   "source": [
    "import seaborn as sns\n",
    "import matplotlib.pyplot as plt\n",
    "\n",
    "# Ordenar o DataFrame pela importância em ordem decrescente\n",
    "feature_importance_df = feature_importance_df.sort_values(by='Importance', ascending=False)\n",
    "\n",
    "# Configurar estilo do Seaborn\n",
    "sns.set_theme(style=\"whitegrid\")\n",
    "\n",
    "# Criar o gráfico de barras\n",
    "plt.figure(figsize=(12, 8))\n",
    "sns.barplot(\n",
    "    x='Importance', \n",
    "    y='Feature', \n",
    "    data=feature_importance_df, \n",
    "    palette=sns.color_palette(\"RdYlGn\", n_colors=len(feature_importance_df))\n",
    ")\n",
    "\n",
    "# Personalizar o gráfico\n",
    "plt.title(\"Importância das Features\", fontsize=16, fontweight='bold')\n",
    "plt.xlabel(\"Importância\", fontsize=12)\n",
    "plt.ylabel(\"Features\", fontsize=12)\n",
    "plt.xticks(fontsize=10)\n",
    "plt.yticks(fontsize=10)\n",
    "plt.tight_layout()\n",
    "\n",
    "# Mostrar o gráfico\n",
    "plt.show()"
   ]
  },
  {
   "cell_type": "markdown",
   "id": "f95ca20a-6df6-46f8-b89f-2f30a369e7db",
   "metadata": {},
   "source": [
    "# Acha melhor corte função custo"
   ]
  },
  {
   "cell_type": "markdown",
   "id": "93aa3092-1b55-49c0-ac77-e09cf5b6a27f",
   "metadata": {},
   "source": [
    "A função de custo (C) é definida por: \\\n",
    "**C = 12 x 0.5 x TP - ( TP + Fp ) x 3**\n",
    "\n",
    "Onde:\n",
    "* (TP) é o número de verdadeiro positivos\n",
    "* (FP) é o número de falsos positivos.\n",
    "\n",
    "Ganho é 12 meses x 50% vai ficar retido x Churn M3 positivo \\\n",
    "Custo é todos clientes classificados como Churn M3 x 3 meses gratuitos"
   ]
  },
  {
   "cell_type": "code",
   "execution_count": 81,
   "id": "cd5c55bc-3212-4bf0-837b-0d90a68466f4",
   "metadata": {},
   "outputs": [],
   "source": [
    "def custom_cost(y_true, y_pred):\n",
    "    tn, fp, fn, tp = confusion_matrix(y_true, y_pred).ravel()\n",
    "    return 12*0.5*tp - (tp + fp)*3"
   ]
  },
  {
   "cell_type": "code",
   "execution_count": 87,
   "id": "3e33295a-92e5-40a6-b71f-97a4db5696dd",
   "metadata": {},
   "outputs": [
    {
     "name": "stderr",
     "output_type": "stream",
     "text": [
      "[Parallel(n_jobs=12)]: Using backend ThreadingBackend with 12 concurrent workers.\n",
      "[Parallel(n_jobs=12)]: Done  26 tasks      | elapsed:    0.0s\n",
      "[Parallel(n_jobs=12)]: Done 118 out of 118 | elapsed:    0.0s finished\n"
     ]
    }
   ],
   "source": [
    "# Obter as probabilidades de cada classe usando o modelo\n",
    "y_proba = rf.predict_proba(X_test[features])  \n",
    "\n",
    "# Criar as probabilidades de positivo e negativo\n",
    "proba_negativo = y_proba[:, 0]  # Probabilidade da classe 0\n",
    "proba_positivo = y_proba[:, 1]  # Probabilidade da classe 1\n",
    "\n",
    "# Criar o DataFrame com as informações\n",
    "resultados = pd.DataFrame({\n",
    "    \"y_test\": y_test_values,          # Valores reais\n",
    "    \"proba_negativo\": proba_negativo,  # Probabilidade para a classe 0\n",
    "    \"proba_positivo\": proba_positivo, # Probabilidade para a classe 1\n",
    "    'y_pred': y_pred_test\n",
    "})"
   ]
  },
  {
   "cell_type": "code",
   "execution_count": 95,
   "id": "f8325272-2976-4ff5-8214-64327dec6697",
   "metadata": {},
   "outputs": [
    {
     "name": "stdout",
     "output_type": "stream",
     "text": [
      "Melhor threshold: 0.8300000000000001\n",
      "Melhor custo: 3630.0\n"
     ]
    },
    {
     "data": {
      "text/html": [
       "<div>\n",
       "<style scoped>\n",
       "    .dataframe tbody tr th:only-of-type {\n",
       "        vertical-align: middle;\n",
       "    }\n",
       "\n",
       "    .dataframe tbody tr th {\n",
       "        vertical-align: top;\n",
       "    }\n",
       "\n",
       "    .dataframe thead th {\n",
       "        text-align: right;\n",
       "    }\n",
       "</style>\n",
       "<table border=\"1\" class=\"dataframe\">\n",
       "  <thead>\n",
       "    <tr style=\"text-align: right;\">\n",
       "      <th></th>\n",
       "      <th>threshold</th>\n",
       "      <th>custo</th>\n",
       "    </tr>\n",
       "  </thead>\n",
       "  <tbody>\n",
       "    <tr>\n",
       "      <th>83</th>\n",
       "      <td>0.83</td>\n",
       "      <td>3630.0</td>\n",
       "    </tr>\n",
       "    <tr>\n",
       "      <th>84</th>\n",
       "      <td>0.84</td>\n",
       "      <td>3609.0</td>\n",
       "    </tr>\n",
       "    <tr>\n",
       "      <th>82</th>\n",
       "      <td>0.82</td>\n",
       "      <td>3567.0</td>\n",
       "    </tr>\n",
       "    <tr>\n",
       "      <th>85</th>\n",
       "      <td>0.85</td>\n",
       "      <td>3510.0</td>\n",
       "    </tr>\n",
       "    <tr>\n",
       "      <th>81</th>\n",
       "      <td>0.81</td>\n",
       "      <td>3342.0</td>\n",
       "    </tr>\n",
       "    <tr>\n",
       "      <th>...</th>\n",
       "      <td>...</td>\n",
       "      <td>...</td>\n",
       "    </tr>\n",
       "    <tr>\n",
       "      <th>4</th>\n",
       "      <td>0.04</td>\n",
       "      <td>-208500.0</td>\n",
       "    </tr>\n",
       "    <tr>\n",
       "      <th>3</th>\n",
       "      <td>0.03</td>\n",
       "      <td>-211473.0</td>\n",
       "    </tr>\n",
       "    <tr>\n",
       "      <th>2</th>\n",
       "      <td>0.02</td>\n",
       "      <td>-216204.0</td>\n",
       "    </tr>\n",
       "    <tr>\n",
       "      <th>1</th>\n",
       "      <td>0.01</td>\n",
       "      <td>-231519.0</td>\n",
       "    </tr>\n",
       "    <tr>\n",
       "      <th>0</th>\n",
       "      <td>0.00</td>\n",
       "      <td>-234936.0</td>\n",
       "    </tr>\n",
       "  </tbody>\n",
       "</table>\n",
       "<p>101 rows × 2 columns</p>\n",
       "</div>"
      ],
      "text/plain": [
       "    threshold     custo\n",
       "83       0.83    3630.0\n",
       "84       0.84    3609.0\n",
       "82       0.82    3567.0\n",
       "85       0.85    3510.0\n",
       "81       0.81    3342.0\n",
       "..        ...       ...\n",
       "4        0.04 -208500.0\n",
       "3        0.03 -211473.0\n",
       "2        0.02 -216204.0\n",
       "1        0.01 -231519.0\n",
       "0        0.00 -234936.0\n",
       "\n",
       "[101 rows x 2 columns]"
      ]
     },
     "execution_count": 95,
     "metadata": {},
     "output_type": "execute_result"
    }
   ],
   "source": [
    "# Inicializar lista para armazenar os resultados de cada threshold\n",
    "resultados_threshold = []\n",
    "\n",
    "# Loop para testar diferentes valores de threshold\n",
    "for threshold in np.arange(0.0, 1.01, 0.01):  # Testa de 0.0 a 1.0 com passos de 0.01\n",
    "    # Criar a previsão binária com o threshold atual\n",
    "    resultados[\"y_pred\"] = (resultados[\"proba_positivo\"] >= threshold).astype(int)\n",
    "    \n",
    "    # Calcular o custo com a função custom_cost\n",
    "    custo_atual = custom_cost(resultados[\"y_test\"], resultados[\"y_pred\"])\n",
    "    \n",
    "    # Armazenar o resultado do threshold atual\n",
    "    resultados_threshold.append({\"threshold\": threshold, \"custo\": custo_atual})\n",
    "\n",
    "# Criar um DataFrame com os resultados de todos os thresholds\n",
    "custos_df = pd.DataFrame(resultados_threshold)\n",
    "\n",
    "# Identificar o melhor threshold e seu custo associado\n",
    "melhor_resultado = custos_df.loc[custos_df[\"custo\"].idxmax()]\n",
    "\n",
    "# Exibir o melhor threshold e custo\n",
    "print(f\"Melhor threshold: {melhor_resultado['threshold']}\")\n",
    "print(f\"Melhor custo: {melhor_resultado['custo']}\")\n",
    "\n",
    "# Exibir todos os resultados em ordem decrescente de custo\n",
    "custos_df.sort_values(by=\"custo\", ascending=False)"
   ]
  },
  {
   "cell_type": "code",
   "execution_count": 97,
   "id": "85d23ced-ae47-487e-af3c-8f81081df7e2",
   "metadata": {},
   "outputs": [
    {
     "name": "stderr",
     "output_type": "stream",
     "text": [
      "C:\\Users\\natha\\anaconda3\\Lib\\site-packages\\seaborn\\_oldcore.py:1119: FutureWarning: use_inf_as_na option is deprecated and will be removed in a future version. Convert inf values to NaN before operating instead.\n",
      "  with pd.option_context('mode.use_inf_as_na', True):\n",
      "C:\\Users\\natha\\anaconda3\\Lib\\site-packages\\seaborn\\_oldcore.py:1119: FutureWarning: use_inf_as_na option is deprecated and will be removed in a future version. Convert inf values to NaN before operating instead.\n",
      "  with pd.option_context('mode.use_inf_as_na', True):\n"
     ]
    },
    {
     "data": {
      "image/png": "[encoded data removed]",
      "text/plain": [
       "<Figure size 800x400 with 1 Axes>"
      ]
     },
     "metadata": {},
     "output_type": "display_data"
    }
   ],
   "source": [
    "import seaborn as sns\n",
    "import matplotlib.pyplot as plt\n",
    "\n",
    "# Configurar estilo do Seaborn\n",
    "sns.set_theme(style=\"whitegrid\")\n",
    "\n",
    "# Criar o gráfico\n",
    "plt.figure(figsize=(8, 4))  # Tamanho da figura\n",
    "ax = sns.lineplot(x=\"threshold\", y=\"custo\", data=custos_df, color=\"blue\", linewidth=2, label=\"Custo\")\n",
    "\n",
    "# Destaque para o melhor threshold\n",
    "melhor_threshold = melhor_resultado[\"threshold\"]\n",
    "melhor_custo = melhor_resultado[\"custo\"]\n",
    "plt.axvline(x=melhor_threshold, color=\"red\", linestyle=\"--\", linewidth=1, label=f\"Melhor Threshold ({melhor_threshold:.2f})\")\n",
    "\n",
    "# Ajustar limites do eixo Y\n",
    "plt.ylim(0, custos_df[\"custo\"].max() + 500)\n",
    "\n",
    "# Adicionar títulos e rótulos\n",
    "plt.title(\"Custo em Função do Threshold\", fontsize=16)\n",
    "plt.xlabel(\"Threshold\", fontsize=14)\n",
    "plt.ylabel(\"Custo\", fontsize=14)\n",
    "\n",
    "# Legenda\n",
    "plt.legend(fontsize=12)\n",
    "\n",
    "# Mostrar o gráfico\n",
    "plt.tight_layout()\n",
    "plt.show()"
   ]
  },
  {
   "cell_type": "markdown",
   "id": "587d5bc8-5229-428b-b208-3ac270e297eb",
   "metadata": {},
   "source": [
    "## Clusterização"
   ]
  },
  {
   "cell_type": "code",
   "execution_count": 161,
   "id": "27efa3e5-45c8-4b84-80b1-0c1c5416bc38",
   "metadata": {},
   "outputs": [],
   "source": [
    "from sklearn.cluster import KMeans\n",
    "from sklearn.preprocessing import StandardScaler"
   ]
  },
  {
   "cell_type": "markdown",
   "id": "b36c414d-ad19-4d46-a8d2-7719707f49ff",
   "metadata": {},
   "source": [
    "### Retira Variáveis Correlacionadas"
   ]
  },
  {
   "cell_type": "code",
   "execution_count": 131,
   "id": "d39b4bec-b44e-40e0-9a82-815f1a724d2b",
   "metadata": {
    "scrolled": true
   },
   "outputs": [
    {
     "data": {
      "image/png": "[encoded data removed]",
      "text/plain": [
       "<Figure size 700x500 with 2 Axes>"
      ]
     },
     "metadata": {},
     "output_type": "display_data"
    }
   ],
   "source": [
    "# Calculando a matriz de correlação de Spearman\n",
    "correlation_matrix = X_test[features].corr(method='spearman')\n",
    "\n",
    "# Criando o heatmap\n",
    "plt.figure(figsize=(7, 5))\n",
    "sns.heatmap(correlation_matrix, annot=False, cmap='coolwarm', fmt=\".2f\", vmin=-1, vmax=1)\n",
    "plt.title(\"Matriz de Correlação (Spearman)\")\n",
    "plt.show()"
   ]
  },
  {
   "cell_type": "code",
   "execution_count": 141,
   "id": "8a6c395e-43da-4f9d-9fe9-3c6d0d4a325a",
   "metadata": {
    "scrolled": true
   },
   "outputs": [
    {
     "name": "stdout",
     "output_type": "stream",
     "text": [
      "Pares de features com alta correlação:\n"
     ]
    },
    {
     "data": {
      "text/plain": [
       "[('actual_amount_paid', 'plan_list_price'),\n",
       " ('is_auto_renew', 'payment_plan_days'),\n",
       " ('prob_renov_auto', 'payment_plan_days'),\n",
       " ('prob_renov_auto', 'is_auto_renew'),\n",
       " ('atraso_pagamento', 'payment_plan_days'),\n",
       " ('atraso_pagamento', 'is_auto_renew'),\n",
       " ('atraso_pagamento', 'prob_renov_auto'),\n",
       " ('num_50', 'num_25'),\n",
       " ('num_75', 'num_50'),\n",
       " ('num_985', 'num_75'),\n",
       " ('num_unq', 'num_100'),\n",
       " ('tempo_total', 'num_100'),\n",
       " ('media_3m_25', 'num_25'),\n",
       " ('media_3m_50', 'num_50'),\n",
       " ('media_3m_50', 'num_75'),\n",
       " ('media_3m_50', 'media_3m_25'),\n",
       " ('media_3m_75', 'num_50'),\n",
       " ('media_3m_75', 'num_75'),\n",
       " ('media_3m_75', 'media_3m_25'),\n",
       " ('media_3m_75', 'media_3m_50'),\n",
       " ('media_3m_985', 'num_985'),\n",
       " ('media_3m_985', 'media_3m_50'),\n",
       " ('media_3m_985', 'media_3m_75'),\n",
       " ('media_3m_100', 'num_100'),\n",
       " ('media_3m_100', 'num_unq'),\n",
       " ('media_3m_unq', 'num_100'),\n",
       " ('media_3m_unq', 'num_unq'),\n",
       " ('media_3m_unq', 'media_3m_100')]"
      ]
     },
     "execution_count": 141,
     "metadata": {},
     "output_type": "execute_result"
    }
   ],
   "source": [
    "# Definindo o limite de correlação\n",
    "threshold = 0.9\n",
    "\n",
    "# Encontrando pares de variáveis altamente correlacionadas\n",
    "correlated_pairs = []\n",
    "\n",
    "for i in range(correlation_matrix.shape[0]):\n",
    "    for j in range(i):\n",
    "        if abs(correlation_matrix.iloc[i, j]) > threshold:\n",
    "            col1 = correlation_matrix.index[i]\n",
    "            col2 = correlation_matrix.columns[j]\n",
    "            correlated_pairs.append((col1, col2))\n",
    "\n",
    "# Exibindo os pares de features correlacionadas\n",
    "print(\"Pares de features com alta correlação:\")\n",
    "correlated_pairs"
   ]
  },
  {
   "cell_type": "code",
   "execution_count": 143,
   "id": "04a2fd78-803e-49cc-9c3e-bbe2a0259d14",
   "metadata": {},
   "outputs": [
    {
     "name": "stdout",
     "output_type": "stream",
     "text": [
      "Features a serem removidas:\n"
     ]
    },
    {
     "data": {
      "text/plain": [
       "['num_50',\n",
       " 'num_unq',\n",
       " 'plan_list_price',\n",
       " 'num_25',\n",
       " 'payment_plan_days',\n",
       " 'media_3m_25',\n",
       " 'is_auto_renew',\n",
       " 'media_3m_100',\n",
       " 'media_3m_50',\n",
       " 'num_100',\n",
       " 'media_3m_75',\n",
       " 'prob_renov_auto',\n",
       " 'num_985',\n",
       " 'num_75']"
      ]
     },
     "execution_count": 143,
     "metadata": {},
     "output_type": "execute_result"
    }
   ],
   "source": [
    "# Criando uma lista para armazenar as features redundantes\n",
    "redundant_features = set()\n",
    "\n",
    "for col1, col2 in correlated_pairs:\n",
    "    redundant_features.add(col2)  # Escolha arbitrária: mantém col1 e remove col2\n",
    "\n",
    "# Exibindo as features redundantes\n",
    "print(\"Features a serem removidas:\")\n",
    "list(redundant_features)"
   ]
  },
  {
   "cell_type": "code",
   "execution_count": 147,
   "id": "8dd65cfc-7731-49d0-a88d-ab4d62941603",
   "metadata": {},
   "outputs": [],
   "source": [
    "# Criando uma nova lista sem os nomes a remover\n",
    "features_sem_corr = [f for f in features if f not in redundant_features]"
   ]
  },
  {
   "cell_type": "markdown",
   "id": "65559667-f307-40bd-8d75-699a7450802c",
   "metadata": {},
   "source": [
    "### Roda Kmeans"
   ]
  },
  {
   "cell_type": "code",
   "execution_count": 163,
   "id": "97767a00-ab53-434d-8e6e-40d30f195bd9",
   "metadata": {},
   "outputs": [],
   "source": [
    "# Normaliza as variaveis\n",
    "scaler = StandardScaler()\n",
    "X_scaled = scaler.fit_transform(X_test[features_sem_corr])"
   ]
  },
  {
   "cell_type": "code",
   "execution_count": 175,
   "id": "cf44a0cc-b35c-4505-9073-3fa16d9255de",
   "metadata": {},
   "outputs": [
    {
     "name": "stderr",
     "output_type": "stream",
     "text": [
      "C:\\Users\\natha\\anaconda3\\Lib\\site-packages\\sklearn\\cluster\\_kmeans.py:870: FutureWarning: The default value of `n_init` will change from 10 to 'auto' in 1.4. Set the value of `n_init` explicitly to suppress the warning\n",
      "  warnings.warn(\n",
      "C:\\Users\\natha\\anaconda3\\Lib\\site-packages\\sklearn\\cluster\\_kmeans.py:870: FutureWarning: The default value of `n_init` will change from 10 to 'auto' in 1.4. Set the value of `n_init` explicitly to suppress the warning\n",
      "  warnings.warn(\n",
      "C:\\Users\\natha\\anaconda3\\Lib\\site-packages\\sklearn\\cluster\\_kmeans.py:870: FutureWarning: The default value of `n_init` will change from 10 to 'auto' in 1.4. Set the value of `n_init` explicitly to suppress the warning\n",
      "  warnings.warn(\n",
      "C:\\Users\\natha\\anaconda3\\Lib\\site-packages\\sklearn\\cluster\\_kmeans.py:870: FutureWarning: The default value of `n_init` will change from 10 to 'auto' in 1.4. Set the value of `n_init` explicitly to suppress the warning\n",
      "  warnings.warn(\n",
      "C:\\Users\\natha\\anaconda3\\Lib\\site-packages\\sklearn\\cluster\\_kmeans.py:870: FutureWarning: The default value of `n_init` will change from 10 to 'auto' in 1.4. Set the value of `n_init` explicitly to suppress the warning\n",
      "  warnings.warn(\n",
      "C:\\Users\\natha\\anaconda3\\Lib\\site-packages\\sklearn\\cluster\\_kmeans.py:870: FutureWarning: The default value of `n_init` will change from 10 to 'auto' in 1.4. Set the value of `n_init` explicitly to suppress the warning\n",
      "  warnings.warn(\n",
      "C:\\Users\\natha\\anaconda3\\Lib\\site-packages\\sklearn\\cluster\\_kmeans.py:870: FutureWarning: The default value of `n_init` will change from 10 to 'auto' in 1.4. Set the value of `n_init` explicitly to suppress the warning\n",
      "  warnings.warn(\n",
      "C:\\Users\\natha\\anaconda3\\Lib\\site-packages\\sklearn\\cluster\\_kmeans.py:870: FutureWarning: The default value of `n_init` will change from 10 to 'auto' in 1.4. Set the value of `n_init` explicitly to suppress the warning\n",
      "  warnings.warn(\n",
      "C:\\Users\\natha\\anaconda3\\Lib\\site-packages\\sklearn\\cluster\\_kmeans.py:870: FutureWarning: The default value of `n_init` will change from 10 to 'auto' in 1.4. Set the value of `n_init` explicitly to suppress the warning\n",
      "  warnings.warn(\n"
     ]
    }
   ],
   "source": [
    "import matplotlib.pyplot as plt\n",
    "\n",
    "distortions = []\n",
    "K = range(1, 10)  # Testar de 1 a 9 clusters\n",
    "\n",
    "for k in K:\n",
    "    kmeans = KMeans(n_clusters=k, random_state=42)\n",
    "    kmeans.fit(X_scaled)\n",
    "    distortions.append(kmeans.inertia_)"
   ]
  },
  {
   "cell_type": "code",
   "execution_count": 176,
   "id": "34f8d66d-7114-4d8c-8ba8-08435fdea3bd",
   "metadata": {},
   "outputs": [
    {
     "data": {
      "image/png": "[encoded data removed]",
      "text/plain": [
       "<Figure size 800x500 with 1 Axes>"
      ]
     },
     "metadata": {},
     "output_type": "display_data"
    }
   ],
   "source": [
    "# Plotar o método do cotovelo\n",
    "plt.figure(figsize=(8, 5))\n",
    "plt.plot(K, distortions, 'bx-')\n",
    "plt.xlabel(\"Número de Clusters\")\n",
    "plt.ylabel(\"Inércia\")\n",
    "plt.title(\"Método do Cotovelo\")\n",
    "plt.show()"
   ]
  },
  {
   "cell_type": "code",
   "execution_count": 167,
   "id": "cd82dc7c-0f2d-41b1-a16c-03ecfbaf1e11",
   "metadata": {},
   "outputs": [
    {
     "name": "stderr",
     "output_type": "stream",
     "text": [
      "C:\\Users\\natha\\anaconda3\\Lib\\site-packages\\sklearn\\cluster\\_kmeans.py:870: FutureWarning: The default value of `n_init` will change from 10 to 'auto' in 1.4. Set the value of `n_init` explicitly to suppress the warning\n",
      "  warnings.warn(\n"
     ]
    },
    {
     "data": {
      "text/html": [
       "<style>#sk-container-id-4 {color: black;background-color: white;}#sk-container-id-4 pre{padding: 0;}#sk-container-id-4 div.sk-toggleable {background-color: white;}#sk-container-id-4 label.sk-toggleable__label {cursor: pointer;display: block;width: 100%;margin-bottom: 0;padding: 0.3em;box-sizing: border-box;text-align: center;}#sk-container-id-4 label.sk-toggleable__label-arrow:before {content: \"▸\";float: left;margin-right: 0.25em;color: #696969;}#sk-container-id-4 label.sk-toggleable__label-arrow:hover:before {color: black;}#sk-container-id-4 div.sk-estimator:hover label.sk-toggleable__label-arrow:before {color: black;}#sk-container-id-4 div.sk-toggleable__content {max-height: 0;max-width: 0;overflow: hidden;text-align: left;background-color: #f0f8ff;}#sk-container-id-4 div.sk-toggleable__content pre {margin: 0.2em;color: black;border-radius: 0.25em;background-color: #f0f8ff;}#sk-container-id-4 input.sk-toggleable__control:checked~div.sk-toggleable__content {max-height: 200px;max-width: 100%;overflow: auto;}#sk-container-id-4 input.sk-toggleable__control:checked~label.sk-toggleable__label-arrow:before {content: \"▾\";}#sk-container-id-4 div.sk-estimator input.sk-toggleable__control:checked~label.sk-toggleable__label {background-color: #d4ebff;}#sk-container-id-4 div.sk-label input.sk-toggleable__control:checked~label.sk-toggleable__label {background-color: #d4ebff;}#sk-container-id-4 input.sk-hidden--visually {border: 0;clip: rect(1px 1px 1px 1px);clip: rect(1px, 1px, 1px, 1px);height: 1px;margin: -1px;overflow: hidden;padding: 0;position: absolute;width: 1px;}#sk-container-id-4 div.sk-estimator {font-family: monospace;background-color: #f0f8ff;border: 1px dotted black;border-radius: 0.25em;box-sizing: border-box;margin-bottom: 0.5em;}#sk-container-id-4 div.sk-estimator:hover {background-color: #d4ebff;}#sk-container-id-4 div.sk-parallel-item::after {content: \"\";width: 100%;border-bottom: 1px solid gray;flex-grow: 1;}#sk-container-id-4 div.sk-label:hover label.sk-toggleable__label {background-color: #d4ebff;}#sk-container-id-4 div.sk-serial::before {content: \"\";position: absolute;border-left: 1px solid gray;box-sizing: border-box;top: 0;bottom: 0;left: 50%;z-index: 0;}#sk-container-id-4 div.sk-serial {display: flex;flex-direction: column;align-items: center;background-color: white;padding-right: 0.2em;padding-left: 0.2em;position: relative;}#sk-container-id-4 div.sk-item {position: relative;z-index: 1;}#sk-container-id-4 div.sk-parallel {display: flex;align-items: stretch;justify-content: center;background-color: white;position: relative;}#sk-container-id-4 div.sk-item::before, #sk-container-id-4 div.sk-parallel-item::before {content: \"\";position: absolute;border-left: 1px solid gray;box-sizing: border-box;top: 0;bottom: 0;left: 50%;z-index: -1;}#sk-container-id-4 div.sk-parallel-item {display: flex;flex-direction: column;z-index: 1;position: relative;background-color: white;}#sk-container-id-4 div.sk-parallel-item:first-child::after {align-self: flex-end;width: 50%;}#sk-container-id-4 div.sk-parallel-item:last-child::after {align-self: flex-start;width: 50%;}#sk-container-id-4 div.sk-parallel-item:only-child::after {width: 0;}#sk-container-id-4 div.sk-dashed-wrapped {border: 1px dashed gray;margin: 0 0.4em 0.5em 0.4em;box-sizing: border-box;padding-bottom: 0.4em;background-color: white;}#sk-container-id-4 div.sk-label label {font-family: monospace;font-weight: bold;display: inline-block;line-height: 1.2em;}#sk-container-id-4 div.sk-label-container {text-align: center;}#sk-container-id-4 div.sk-container {/* jupyter's `normalize.less` sets `[hidden] { display: none; }` but bootstrap.min.css set `[hidden] { display: none !important; }` so we also need the `!important` here to be able to override the default hidden behavior on the sphinx rendered scikit-learn.org. See: https://github.com/scikit-learn/scikit-learn/issues/21755 */display: inline-block !important;position: relative;}#sk-container-id-4 div.sk-text-repr-fallback {display: none;}</style><div id=\"sk-container-id-4\" class=\"sk-top-container\"><div class=\"sk-text-repr-fallback\"><pre>KMeans(n_clusters=3, random_state=42)</pre><b>In a Jupyter environment, please rerun this cell to show the HTML representation or trust the notebook. <br />On GitHub, the HTML representation is unable to render, please try loading this page with nbviewer.org.</b></div><div class=\"sk-container\" hidden><div class=\"sk-item\"><div class=\"sk-estimator sk-toggleable\"><input class=\"sk-toggleable__control sk-hidden--visually\" id=\"sk-estimator-id-4\" type=\"checkbox\" checked><label for=\"sk-estimator-id-4\" class=\"sk-toggleable__label sk-toggleable__label-arrow\">KMeans</label><div class=\"sk-toggleable__content\"><pre>KMeans(n_clusters=3, random_state=42)</pre></div></div></div></div></div>"
      ],
      "text/plain": [
       "KMeans(n_clusters=3, random_state=42)"
      ]
     },
     "execution_count": 167,
     "metadata": {},
     "output_type": "execute_result"
    }
   ],
   "source": [
    "k = 3  \n",
    "kmeans = KMeans(n_clusters=k, random_state=42)\n",
    "kmeans.fit(X_scaled)"
   ]
  },
  {
   "cell_type": "markdown",
   "id": "c66a78cd-9203-42bf-aa68-1508eb59c736",
   "metadata": {},
   "source": [
    "### Distribuição da Target por Cluster"
   ]
  },
  {
   "cell_type": "code",
   "execution_count": 169,
   "id": "cbc29e83-a9af-4eb1-8a10-7ee71965220b",
   "metadata": {},
   "outputs": [],
   "source": [
    "# Criar o DataFrame com os clusters e a variável target\n",
    "resultados = pd.DataFrame({\n",
    "    \"cluster\": kmeans.labels_,\n",
    "    \"target\": y_test_values\n",
    "})"
   ]
  },
  {
   "cell_type": "code",
   "execution_count": 182,
   "id": "5af5155b-c41e-4530-b85b-4440a8a2b55f",
   "metadata": {},
   "outputs": [],
   "source": [
    "# Contar a quantidade de cada valor da target em cada cluster\n",
    "distribuicao = resultados.groupby([\"cluster\", \"target\"]).size().unstack(fill_value=0)\n",
    "proporcao = distribuicao.div(distribuicao.sum(axis=1), axis=0)"
   ]
  },
  {
   "cell_type": "code",
   "execution_count": 184,
   "id": "79c0ea93-fe02-4e59-b89a-01f7c254a0cd",
   "metadata": {},
   "outputs": [
    {
     "data": {
      "text/html": [
       "<div>\n",
       "<style scoped>\n",
       "    .dataframe tbody tr th:only-of-type {\n",
       "        vertical-align: middle;\n",
       "    }\n",
       "\n",
       "    .dataframe tbody tr th {\n",
       "        vertical-align: top;\n",
       "    }\n",
       "\n",
       "    .dataframe thead th {\n",
       "        text-align: right;\n",
       "    }\n",
       "</style>\n",
       "<table border=\"1\" class=\"dataframe\">\n",
       "  <thead>\n",
       "    <tr style=\"text-align: right;\">\n",
       "      <th>target</th>\n",
       "      <th>0</th>\n",
       "      <th>1</th>\n",
       "    </tr>\n",
       "    <tr>\n",
       "      <th>cluster</th>\n",
       "      <th></th>\n",
       "      <th></th>\n",
       "    </tr>\n",
       "  </thead>\n",
       "  <tbody>\n",
       "    <tr>\n",
       "      <th>0</th>\n",
       "      <td>0.939291</td>\n",
       "      <td>0.060709</td>\n",
       "    </tr>\n",
       "    <tr>\n",
       "      <th>1</th>\n",
       "      <td>0.954880</td>\n",
       "      <td>0.045120</td>\n",
       "    </tr>\n",
       "    <tr>\n",
       "      <th>2</th>\n",
       "      <td>0.832509</td>\n",
       "      <td>0.167491</td>\n",
       "    </tr>\n",
       "  </tbody>\n",
       "</table>\n",
       "</div>"
      ],
      "text/plain": [
       "target          0         1\n",
       "cluster                    \n",
       "0        0.939291  0.060709\n",
       "1        0.954880  0.045120\n",
       "2        0.832509  0.167491"
      ]
     },
     "execution_count": 184,
     "metadata": {},
     "output_type": "execute_result"
    }
   ],
   "source": [
    "proporcao"
   ]
  }
 ],
 "metadata": {
  "kernelspec": {
   "display_name": "Python 3 (ipykernel)",
   "language": "python",
   "name": "python3"
  },
  "language_info": {
   "codemirror_mode": {
    "name": "ipython",
    "version": 3
   },
   "file_extension": ".py",
   "mimetype": "text/x-python",
   "name": "python",
   "nbconvert_exporter": "python",
   "pygments_lexer": "ipython3",
   "version": "3.11.7"
  }
 },
 "nbformat": 4,
 "nbformat_minor": 5
}
